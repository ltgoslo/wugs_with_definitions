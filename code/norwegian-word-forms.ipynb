{
 "cells": [
  {
   "cell_type": "code",
   "execution_count": 1,
   "metadata": {},
   "outputs": [],
   "source": [
    "import json\n",
    "from glob import glob\n",
    "import gzip\n",
    "import os\n",
    "import re\n",
    "import shutil\n",
    "import string\n",
    "\n",
    "import pandas as pd"
   ]
  },
  {
   "cell_type": "code",
   "execution_count": 7,
   "metadata": {},
   "outputs": [
    {
     "name": "stdout",
     "output_type": "stream",
     "text": [
      "95436\n"
     ]
    }
   ],
   "source": [
    "path_to_dump = os.path.expanduser(\"~/defmod/datasets/norwegian/ordbok-dump-2023-05-09.json\")\n",
    "\n",
    "with open(os.path.join(path_to_dump, \"ordbok-nno-dump-2023-05-09.json\"), \"r\", encoding=\"utf8\") as f:\n",
    "    data = json.load(f)\n",
    "    \n",
    "print(len(data))"
   ]
  },
  {
   "cell_type": "code",
   "execution_count": 8,
   "metadata": {},
   "outputs": [
    {
     "name": "stdout",
     "output_type": "stream",
     "text": [
      "80124\n"
     ]
    }
   ],
   "source": [
    "with open(os.path.join(path_to_dump, \"ordbok-nob-dump-2023-05-09.json\"), \"r\", encoding=\"utf8\") as f:\n",
    "    data_bokmål = json.load(f)\n",
    "    \n",
    "print(len(data_bokmål))"
   ]
  },
  {
   "cell_type": "code",
   "execution_count": 9,
   "metadata": {},
   "outputs": [
    {
     "data": {
      "text/plain": [
       "dict_keys(['body', 'lemmas', 'suggest', 'to_index', 'submitted', 'article_id'])"
      ]
     },
     "execution_count": 9,
     "metadata": {},
     "output_type": "execute_result"
    }
   ],
   "source": [
    "data_bokmål[100].keys()"
   ]
  },
  {
   "cell_type": "code",
   "execution_count": 10,
   "metadata": {},
   "outputs": [
    {
     "data": {
      "text/plain": [
       "[{'id': 904,\n",
       "  'hgno': 0,\n",
       "  'lemma': 'acetyl',\n",
       "  'junction': '',\n",
       "  'split_inf': None,\n",
       "  'final_lexeme': 'acetyl',\n",
       "  'neg_junction': None,\n",
       "  'paradigm_info': [{'to': None,\n",
       "    'from': '1996-01-01',\n",
       "    'tags': ['NOUN', 'Neuter'],\n",
       "    'inflection': [{'tags': ['Sing', 'Ind'], 'word_form': 'acetyl'},\n",
       "     {'tags': ['Sing', 'Def'], 'word_form': 'acetylet'},\n",
       "     {'tags': ['Plur', 'Ind'], 'word_form': 'acetyl'},\n",
       "     {'tags': ['Plur', 'Def'], 'word_form': 'acetyla'}],\n",
       "    'paradigm_id': 669,\n",
       "    'standardisation': 'STANDARD',\n",
       "    'inflection_group': 'NOUN_regular'},\n",
       "   {'to': None,\n",
       "    'from': '1996-01-01',\n",
       "    'tags': ['NOUN', 'Neuter'],\n",
       "    'inflection': [{'tags': ['Sing', 'Ind'], 'word_form': 'acetyl'},\n",
       "     {'tags': ['Sing', 'Def'], 'word_form': 'acetylet'},\n",
       "     {'tags': ['Plur', 'Ind'], 'word_form': 'acetyl'},\n",
       "     {'tags': ['Plur', 'Def'], 'word_form': 'acetylene'}],\n",
       "    'paradigm_id': 679,\n",
       "    'standardisation': 'STANDARD',\n",
       "    'inflection_group': 'NOUN_regular'}],\n",
       "  'initial_lexeme': '',\n",
       "  'inflection_class': 'n1'}]"
      ]
     },
     "execution_count": 10,
     "metadata": {},
     "output_type": "execute_result"
    }
   ],
   "source": [
    "data_bokmål[100]['lemmas']"
   ]
  },
  {
   "cell_type": "code",
   "execution_count": 12,
   "metadata": {},
   "outputs": [],
   "source": [
    "lemma2idx = {}\n",
    "\n",
    "for i, word in enumerate(data_bokmål):\n",
    "    if word.get(\"lemmas\"):\n",
    "        lemma = word['lemmas'][0][\"lemma\"]\n",
    "        if lemma in lemma2idx:\n",
    "            lemma += \"1\"\n",
    "        lemma2idx[lemma] = i"
   ]
  },
  {
   "cell_type": "code",
   "execution_count": 13,
   "metadata": {},
   "outputs": [],
   "source": [
    "nn_lemma2idx = {}\n",
    "\n",
    "for i, word in enumerate(data):\n",
    "    if word.get(\"lemmas\"):\n",
    "        lemma = word['lemmas'][0][\"lemma\"]\n",
    "        if lemma in nn_lemma2idx:\n",
    "            lemma += \"1\"\n",
    "        nn_lemma2idx[lemma] = i"
   ]
  },
  {
   "cell_type": "code",
   "execution_count": 14,
   "metadata": {},
   "outputs": [],
   "source": [
    "NO_CHARS = re.compile(r\"[øæåØÅÆ]\")"
   ]
  },
  {
   "cell_type": "code",
   "execution_count": 15,
   "metadata": {},
   "outputs": [],
   "source": [
    "def find_forms(article, word_forms):\n",
    "    if article.get(\"lemmas\"):\n",
    "        for lemma in article[\"lemmas\"]:\n",
    "            paradigms = lemma['paradigm_info']\n",
    "            for paradigm in paradigms:\n",
    "                if 'NOUN' in paradigm[\"tags\"]:\n",
    "                    inflections = paradigm[\"inflection\"]\n",
    "                    for form in inflections:\n",
    "                        if form[\"word_form\"] is not None:\n",
    "                            if re.search(NO_CHARS, form[\"word_form\"]) is not None:\n",
    "                                word_forms.append(re.sub(r\"[øØ]\", \"oe\", form[\"word_form\"]))\n",
    "                                word_forms.append(re.sub(r\"[åÅ]\", \"aa\", form[\"word_form\"]))\n",
    "                                word_forms.append(re.sub(r\"[æÆ]\", \"ae\", form[\"word_form\"]))\n",
    "                            word_forms.append(form[\"word_form\"])\n",
    "                            if (\"Sing\" in form[\"tags\"]) and (\"Def\" in form[\"tags\"]):\n",
    "                                word_forms.append(form[\"word_form\"]+\"s\")\n",
    "                                if re.search(NO_CHARS, form[\"word_form\"]) is not None:\n",
    "                                    word_forms.append(re.sub(r\"[øØ]\", \"oe\", form[\"word_form\"])+\"s\")\n",
    "                                    word_forms.append(re.sub(r\"[åÅ]\", \"aa\", form[\"word_form\"])+\"s\")\n",
    "                                    word_forms.append(re.sub(r\"[æÆ]\", \"ae\", form[\"word_form\"])+\"s\")\n",
    "    return word_forms"
   ]
  },
  {
   "cell_type": "code",
   "execution_count": 18,
   "metadata": {},
   "outputs": [],
   "source": [
    "def create_dataset(lemma2idx, nn_lemma2idx):\n",
    "    examples = []\n",
    "    words = set()\n",
    "    words_list = []\n",
    "    \n",
    "    for path in glob(os.path.expanduser('~/PycharmProjects/gloss-annotator/wugs/nor_dia_change/*/data/*')):\n",
    "        word = os.path.split(path)[-1]\n",
    "        words.add(word)\n",
    "    \n",
    "    for word in words:\n",
    "        word_forms = []\n",
    "        words_list.append(word)\n",
    "            \n",
    "        if word != \"Syden\": # немецкое слово, не изменяется\n",
    "            if word == \"tape\":\n",
    "                word = \"teip\"\n",
    "\n",
    "            if word in {'formiddagen', \"landet\"}:\n",
    "                word = word[:-2]\n",
    "            if word == 'særforbund': # нет в словаре\n",
    "                nb = data_bokmål[lemma2idx['forbund']]\n",
    "                word_forms = find_forms(nb, word_forms)\n",
    "                try:\n",
    "                    nn = data[nn_lemma2idx['forbund']]\n",
    "                    word_forms = find_forms(nn, word_forms)\n",
    "                except KeyError:\n",
    "                    pass\n",
    "                for i, wf in enumerate(word_forms):\n",
    "                    word_forms[i] = 'sær' + wf\n",
    "            else:\n",
    "                nb = data_bokmål[lemma2idx[word]]\n",
    "                word_forms = find_forms(nb, word_forms)\n",
    "                try:\n",
    "                    nn = data[nn_lemma2idx[word]]\n",
    "                    word_forms = find_forms(nn, word_forms)\n",
    "                except KeyError:\n",
    "                    pass\n",
    "            print(word_forms)\n",
    "            examples.append(\" \".join(word_forms))\n",
    "            if not word_forms:\n",
    "                print(word, lemma2idx[word])\n",
    "        else:\n",
    "            examples.append(\"Syden syden\")\n",
    "    \n",
    "    df = pd.DataFrame({\"words\": words_list, \"forms\": examples})\n",
    "    df.to_csv(\"norwegian_forms.tsv\", sep=\"\\t\", index=False)"
   ]
  },
  {
   "cell_type": "code",
   "execution_count": 19,
   "metadata": {},
   "outputs": [
    {
     "name": "stdout",
     "output_type": "stream",
     "text": [
      "['sete', 'setet', 'setets', 'seter', 'seta', 'sete', 'setet', 'setets', 'seter', 'setene', 'sete', 'seta', 'setas', 'seter', 'setene']\n",
      "['stryk', 'stryken', 'strykens', 'stryker', 'strykene', 'stryk', 'stryket', 'strykets', 'stryk', 'stryka', 'stryk', 'stryket', 'strykets', 'stryk', 'strykene', 'stryk', 'stryket', 'strykets', 'stryk', 'stryka']\n",
      "['tavle', 'tavlen', 'tavlens', 'tavler', 'tavlene', 'tavle', 'tavla', 'tavlas', 'tavler', 'tavlene', 'tavle', 'tavla', 'tavlas', 'tavler', 'tavlene']\n",
      "['etterforskning', 'etterforskningen', 'etterforskningens', 'etterforskninger', 'etterforskningene', 'etterforskning', 'etterforskninga', 'etterforskningas', 'etterforskninger', 'etterforskningene', 'etterforsking', 'etterforskingen', 'etterforskingens', 'etterforskinger', 'etterforskingene', 'etterforsking', 'etterforskinga', 'etterforskingas', 'etterforskinger', 'etterforskingene']\n",
      "['særforbund', 'særforbundet', 'særforbundets', 'særforbund', 'særforbunda', 'særforbund', 'særforbundet', 'særforbundets', 'særforbund', 'særforbundene', 'særforbund', 'særforbundet', 'særforbundets', 'særforbund', 'særforbunda']\n",
      "['kode', 'koden', 'kodens', 'koder', 'kodene', 'kode', 'koden', 'kodens', 'kodar', 'kodane']\n",
      "['leilighet', 'leiligheten', 'leilighetens', 'leiligheter', 'leilighetene', 'leilighet', 'leiligheta', 'leilighetas', 'leiligheter', 'leilighetene']\n",
      "['oerret', 'ørret', 'ørret', 'ørret', 'oerreten', 'ørreten', 'ørreten', 'ørreten', 'ørretens', 'oerretens', 'ørretens', 'ørretens', 'oerreter', 'ørreter', 'ørreter', 'ørreter', 'oerretene', 'ørretene', 'ørretene', 'ørretene', 'aure', 'auren', 'aurens', 'aurer', 'aurene']\n",
      "['bit', 'biten', 'bitens', 'biter', 'bitene', 'bit', 'biten', 'bitens', 'bit', 'bitene', 'bit', 'biten', 'bitens', 'bitar', 'bitane', 'bit', 'biten', 'bitens', 'bit', 'bitane']\n",
      "['rad', 'raden', 'radens', 'rader', 'radene', 'rad', 'rada', 'radas', 'rader', 'radene', 'rad', 'rada', 'radas', 'rader', 'radene']\n",
      "['bystyrerepresentant', 'bystyrerepresentanten', 'bystyrerepresentantens', 'bystyrerepresentanter', 'bystyrerepresentantene', 'bystyrerepresentant', 'bystyrerepresentanten', 'bystyrerepresentantens', 'bystyrerepresentantar', 'bystyrerepresentantane']\n",
      "['mening', 'meningen', 'meningens', 'meninger', 'meningene', 'mening', 'meninga', 'meningas', 'meninger', 'meningene', 'meining', 'meiningen', 'meiningens', 'meininger', 'meiningene', 'meining', 'meininga', 'meiningas', 'meininger', 'meiningene']\n",
      "['mål', 'maal', 'mål', 'mål', 'målet', 'maalet', 'målet', 'målet', 'målets', 'målets', 'maalets', 'målets', 'mål', 'maal', 'mål', 'mål', 'måla', 'maala', 'måla', 'måla', 'mål', 'maal', 'mål', 'mål', 'målet', 'maalet', 'målet', 'målet', 'målets', 'målets', 'maalets', 'målets', 'mål', 'maal', 'mål', 'mål', 'målene', 'maalene', 'målene', 'målene', 'mål', 'maal', 'mål', 'mål', 'målet', 'maalet', 'målet', 'målet', 'målets', 'målets', 'maalets', 'målets', 'mål', 'maal', 'mål', 'mål', 'måla', 'maala', 'måla', 'måla']\n",
      "['forhold', 'forholdet', 'forholdets', 'forhold', 'forholda', 'forhold', 'forholdet', 'forholdets', 'forhold', 'forholdene', 'forhold', 'forholdet', 'forholdets', 'forhold', 'forholda']\n",
      "['kanal', 'kanalen', 'kanalens', 'kanaler', 'kanalene', 'kanal', 'kanalen', 'kanalens', 'kanalar', 'kanalane']\n",
      "['frakk', 'frakken', 'frakkens', 'frakker', 'frakkene', 'frakk', 'frakken', 'frakkens', 'frakkar', 'frakkane']\n",
      "['ris', 'risen', 'risens', 'riser', 'risene', 'ris', 'risen', 'risens', 'risar', 'risane']\n",
      "['mappe', 'mappen', 'mappens', 'mapper', 'mappene', 'mappe', 'mappa', 'mappas', 'mapper', 'mappene', 'mappe', 'mappa', 'mappas', 'mapper', 'mappene']\n",
      "['melk', 'melken', 'melkens', 'melker', 'melkene', 'melk', 'melka', 'melkas', 'melker', 'melkene', 'mjoelk', 'mjølk', 'mjølk', 'mjølk', 'mjoelken', 'mjølken', 'mjølken', 'mjølken', 'mjølkens', 'mjoelkens', 'mjølkens', 'mjølkens', 'mjoelker', 'mjølker', 'mjølker', 'mjølker', 'mjoelkene', 'mjølkene', 'mjølkene', 'mjølkene', 'mjoelk', 'mjølk', 'mjølk', 'mjølk', 'mjoelka', 'mjølka', 'mjølka', 'mjølka', 'mjølkas', 'mjoelkas', 'mjølkas', 'mjølkas', 'mjoelker', 'mjølker', 'mjølker', 'mjølker', 'mjoelkene', 'mjølkene', 'mjølkene', 'mjølkene']\n",
      "['vindu', 'vinduet', 'vinduets', 'vindu', 'vindua', 'vindu', 'vinduet', 'vinduets', 'vinduer', 'vindua', 'vindu', 'vinduet', 'vinduets', 'vindu', 'vinduene', 'vindu', 'vinduet', 'vinduets', 'vinduer', 'vinduene']\n",
      "['katt', 'katten', 'kattens', 'katter', 'kattene', 'katt', 'katten', 'kattens', 'kattar', 'kattane']\n",
      "['innstilling', 'innstillingen', 'innstillingens', 'innstillinger', 'innstillingene', 'innstilling', 'innstillinga', 'innstillingas', 'innstillinger', 'innstillingene', 'innstilling', 'innstillinga', 'innstillingas', 'innstillingar', 'innstillingane']\n",
      "['kreft', 'kreften', 'kreftens', 'krefter', 'kreftene', 'kreft', 'kreften', 'kreftens', 'kreftar', 'kreftane']\n",
      "['bank', 'banken', 'bankens', 'banker', 'bankene', 'bank', 'banken', 'bankens', 'bankar', 'bankane']\n",
      "['tropp', 'troppen', 'troppens', 'tropper', 'troppene', 'tropp', 'troppen', 'troppens', 'troppar', 'troppane']\n",
      "['skjerm', 'skjermen', 'skjermens', 'skjermer', 'skjermene', 'skjerm', 'skjermen', 'skjermens', 'skjermar', 'skjermane']\n",
      "['husrom', 'husrommet', 'husrommets', 'husrom', 'husromma', 'husrom', 'husrommet', 'husrommets', 'husrom', 'husrommene', 'husrom', 'husrommet', 'husrommets', 'husrom', 'husromma']\n",
      "['leder', 'lederen', 'lederens', 'ledere', 'lederne']\n",
      "['virus', 'viruset', 'virusets', 'virus', 'virusa', 'virus', 'viruset', 'virusets', 'virus', 'virusene', 'virus', 'viruset', 'virusets', 'virus', 'virusa']\n",
      "['kjoepepress', 'kjøpepress', 'kjøpepress', 'kjøpepress', 'kjoepepresset', 'kjøpepresset', 'kjøpepresset', 'kjøpepresset', 'kjøpepressets', 'kjoepepressets', 'kjøpepressets', 'kjøpepressets', 'kjoepepress', 'kjøpepress', 'kjøpepress', 'kjøpepress', 'kjoepepressa', 'kjøpepressa', 'kjøpepressa', 'kjøpepressa', 'kjoepepress', 'kjøpepress', 'kjøpepress', 'kjøpepress', 'kjoepepresset', 'kjøpepresset', 'kjøpepresset', 'kjøpepresset', 'kjøpepressets', 'kjoepepressets', 'kjøpepressets', 'kjøpepressets', 'kjoepepress', 'kjøpepress', 'kjøpepress', 'kjøpepress', 'kjoepepressene', 'kjøpepressene', 'kjøpepressene', 'kjøpepressene', 'kjoepepress', 'kjøpepress', 'kjøpepress', 'kjøpepress', 'kjoepepresset', 'kjøpepresset', 'kjøpepresset', 'kjøpepresset', 'kjøpepressets', 'kjoepepressets', 'kjøpepressets', 'kjøpepressets', 'kjoepepress', 'kjøpepress', 'kjøpepress', 'kjøpepress', 'kjoepepressa', 'kjøpepressa', 'kjøpepressa', 'kjøpepressa']\n",
      "['stroem', 'strøm', 'strøm', 'strøm', 'stroemmen', 'strømmen', 'strømmen', 'strømmen', 'strømmens', 'stroemmens', 'strømmens', 'strømmens', 'stroemmer', 'strømmer', 'strømmer', 'strømmer', 'stroemmene', 'strømmene', 'strømmene', 'strømmene']\n",
      "['kart', 'karten', 'kartens', 'karter', 'kartene', 'kart', 'karten', 'kartens', 'kart', 'kartene', 'kart', 'karten', 'kartens', 'kartar', 'kartane']\n",
      "['spill', 'spillet', 'spillets', 'spill', 'spilla', 'spill', 'spillet', 'spillets', 'spill', 'spillene', 'spill', 'spillet', 'spillets', 'spill', 'spilla']\n",
      "['boelge', 'bølge', 'bølge', 'bølge', 'boelgen', 'bølgen', 'bølgen', 'bølgen', 'bølgens', 'boelgens', 'bølgens', 'bølgens', 'boelger', 'bølger', 'bølger', 'bølger', 'boelgene', 'bølgene', 'bølgene', 'bølgene', 'boelge', 'bølge', 'bølge', 'bølge', 'boelga', 'bølga', 'bølga', 'bølga', 'bølgas', 'boelgas', 'bølgas', 'bølgas', 'boelger', 'bølger', 'bølger', 'bølger', 'boelgene', 'bølgene', 'bølgene', 'bølgene']\n",
      "['gress', 'gresset', 'gressets', 'gress', 'gressa', 'gress', 'gresset', 'gressets', 'gress', 'gressene', 'gras', 'graset', 'grasets', 'gras', 'grasa', 'gras', 'graset', 'grasets', 'gras', 'grasene']\n",
      "['overflate', 'overflaten', 'overflatens', 'overflater', 'overflatene', 'overflate', 'overflata', 'overflatas', 'overflater', 'overflatene', 'overflate', 'overflata', 'overflatas', 'overflater', 'overflatene']\n",
      "['kjemi', 'kjemien', 'kjemiens', 'kjemier', 'kjemiene', 'kjemi', 'kjemien', 'kjemiens', 'kjemiar', 'kjemiane']\n",
      "['utakt', 'utakten', 'utaktens', 'utakter', 'utaktene', 'utakt', 'utakta', 'utaktas', 'utakter', 'utaktene', 'utakt', 'utakta', 'utaktas', 'utakter', 'utaktene']\n",
      "['vert', 'verten', 'vertens', 'verter', 'vertene', 'vert', 'verten', 'vertens', 'vertar', 'vertane']\n",
      "['data', 'dataet', 'dataets', 'data', 'dataene', 'data', 'dataet', 'dataets', 'data', 'dataa']\n",
      "['varsel', 'varselet', 'varselets', 'varsel', 'varsla', 'varsel', 'varselet', 'varselets', 'varsel', 'varslene', 'varsel', 'varslet', 'varslets', 'varsler', 'varsla', 'varsel', 'varslet', 'varslets', 'varsler', 'varslene', 'varsel', 'varselet', 'varselets', 'varsel', 'varsla']\n",
      "['egg', 'eggen', 'eggens', 'egger', 'eggene', 'egg', 'egga', 'eggas', 'egger', 'eggene', 'egg', 'eggen', 'eggens', 'eggar', 'eggane', 'egg', 'egga', 'eggas', 'egger', 'eggene']\n",
      "['driftsregnskap', 'driftsregnskapet', 'driftsregnskapets', 'driftsregnskap', 'driftsregnskapa', 'driftsregnskap', 'driftsregnskapet', 'driftsregnskapets', 'driftsregnskaper', 'driftsregnskapa', 'driftsregnskap', 'driftsregnskapet', 'driftsregnskapets', 'driftsregnskap', 'driftsregnskapene', 'driftsregnskap', 'driftsregnskapet', 'driftsregnskapets', 'driftsregnskaper', 'driftsregnskapene']\n",
      "['fil', 'filen', 'filens', 'filer', 'filene', 'fil', 'fila', 'filas', 'filer', 'filene', 'fil', 'fila', 'filas', 'filer', 'filene']\n",
      "['moment', 'momentet', 'momentets', 'moment', 'momenta', 'moment', 'momentet', 'momentets', 'momenter', 'momenta', 'moment', 'momentet', 'momentets', 'moment', 'momentene', 'moment', 'momentet', 'momentets', 'momenter', 'momentene', 'moment', 'momentet', 'momentets', 'moment', 'momenta']\n",
      "['pære', 'pære', 'paere', 'pære', 'pæren', 'pæren', 'paeren', 'pæren', 'pærens', 'pærens', 'pærens', 'paerens', 'pærer', 'pærer', 'paerer', 'pærer', 'pærene', 'pærene', 'paerene', 'pærene', 'pære', 'pære', 'paere', 'pære', 'pæra', 'pæra', 'paera', 'pæra', 'pæras', 'pæras', 'pæras', 'paeras', 'pærer', 'pærer', 'paerer', 'pærer', 'pærene', 'pærene', 'paerene', 'pærene', 'pære', 'pære', 'paere', 'pære', 'pæra', 'pæra', 'paera', 'pæra', 'pæras', 'pæras', 'pæras', 'paeras', 'pærer', 'pærer', 'paerer', 'pærer', 'pærene', 'pærene', 'paerene', 'pærene']\n",
      "['stoff', 'stoffet', 'stoffets', 'stoff', 'stoffa', 'stoff', 'stoffet', 'stoffets', 'stoffer', 'stoffa', 'stoff', 'stoffet', 'stoffets', 'stoff', 'stoffene', 'stoff', 'stoffet', 'stoffets', 'stoffer', 'stoffene', 'stoff', 'stoffet', 'stoffets', 'stoff', 'stoffa']\n",
      "['horisont', 'horisonten', 'horisontens', 'horisonter', 'horisontene', 'horisont', 'horisonten', 'horisontens', 'horisontar', 'horisontane']\n",
      "['kloakk', 'kloakken', 'kloakkens', 'kloakker', 'kloakkene', 'kloakk', 'kloakken', 'kloakkens', 'kloakkar', 'kloakkane']\n",
      "['plattform', 'plattformen', 'plattformens', 'plattformer', 'plattformene', 'plattform', 'plattforma', 'plattformas', 'plattformer', 'plattformene', 'plattform', 'plattforma', 'plattformas', 'plattformer', 'plattformene']\n",
      "['tro', 'troen', 'troens', 'troer', 'troene', 'tro', 'troa', 'troas', 'troer', 'troene', 'tro', 'troa', 'troas', 'troer', 'trør', 'trør', 'trør', 'troerne', 'trørne', 'trørne', 'trørne']\n",
      "['fane', 'fanen', 'fanens', 'faner', 'fanene', 'fane', 'fana', 'fanas', 'faner', 'fanene', 'fane', 'fana', 'fanas', 'faner', 'fanene']\n",
      "['fag', 'faget', 'fagets', 'fag', 'faga', 'fag', 'faget', 'fagets', 'fag', 'fagene', 'fag', 'faget', 'fagets', 'fag', 'faga']\n",
      "['tjener', 'tjeneren', 'tjenerens', 'tjenere', 'tjenerne']\n",
      "['mus', 'musen', 'musens', 'mus', 'musene', 'mus', 'musa', 'musas', 'mus', 'musene', 'mus', 'musa', 'musas', 'mus', 'musene', 'mus', 'musa', 'musas', 'myser', 'mysene']\n",
      "['kohort', 'kohorten', 'kohortens', 'kohorter', 'kohortene', 'kohort', 'kohorten', 'kohortens', 'kohortar', 'kohortane']\n",
      "['melding', 'meldingen', 'meldingens', 'meldinger', 'meldingene', 'melding', 'meldinga', 'meldingas', 'meldinger', 'meldingene', 'melding', 'meldinga', 'meldingas', 'meldingar', 'meldingane']\n",
      "['rådgiver', 'raadgiver', 'rådgiver', 'rådgiver', 'rådgiveren', 'raadgiveren', 'rådgiveren', 'rådgiveren', 'rådgiverens', 'rådgiverens', 'raadgiverens', 'rådgiverens', 'rådgivere', 'raadgivere', 'rådgivere', 'rådgivere', 'rådgiverne', 'raadgiverne', 'rådgiverne', 'rådgiverne']\n",
      "['lyng', 'lyngen', 'lyngens', 'lynger', 'lyngene', 'lyng', 'lyngen', 'lyngens', 'lyngar', 'lyngane']\n",
      "['terror', 'terroren', 'terrorens', 'terrorer', 'terrorene', 'terror', 'terroren', 'terrorens', 'terrorar', 'terrorane']\n",
      "['test', 'testen', 'testens', 'tester', 'testene', 'test', 'testen', 'testens', 'testar', 'testane']\n",
      "['linse', 'linsen', 'linsens', 'linser', 'linsene', 'linse', 'linsa', 'linsas', 'linser', 'linsene', 'linse', 'linsa', 'linsas', 'linser', 'linsene']\n",
      "['virkelighet', 'virkeligheten', 'virkelighetens', 'virkeligheter', 'virkelighetene', 'virkelighet', 'virkeligheta', 'virkelighetas', 'virkeligheter', 'virkelighetene']\n",
      "['operasjon', 'operasjonen', 'operasjonens', 'operasjoner', 'operasjonene', 'operasjon', 'operasjonen', 'operasjonens', 'operasjonar', 'operasjonane']\n",
      "['side', 'siden', 'sidens', 'sider', 'sidene', 'side', 'sida', 'sidas', 'sider', 'sidene', 'side', 'sida', 'sidas', 'sider', 'sidene']\n",
      "['sky', 'skyen', 'skyens', 'skyer', 'skyene', 'sky', 'skya', 'skyas', 'skyer', 'skyene', 'sky', 'skya', 'skyas', 'skyer', 'skyene']\n",
      "['tendens', 'tendensen', 'tendensens', 'tendenser', 'tendensene', 'tendens', 'tendensen', 'tendensens', 'tendensar', 'tendensane']\n",
      "['storby', 'storbyen', 'storbyens', 'storbyer', 'storbyene', 'storby', 'storbyen', 'storbyens', 'storbyar', 'storbyane']\n",
      "['fjær', 'fjær', 'fjaer', 'fjær', 'fjæren', 'fjæren', 'fjaeren', 'fjæren', 'fjærens', 'fjærens', 'fjærens', 'fjaerens', 'fjærer', 'fjærer', 'fjaerer', 'fjærer', 'fjærene', 'fjærene', 'fjaerene', 'fjærene', 'fjær', 'fjær', 'fjaer', 'fjær', 'fjæren', 'fjæren', 'fjaeren', 'fjæren', 'fjærens', 'fjærens', 'fjærens', 'fjaerens', 'fjær', 'fjær', 'fjaer', 'fjær', 'fjærene', 'fjærene', 'fjaerene', 'fjærene', 'fjær', 'fjær', 'fjaer', 'fjær', 'fjæra', 'fjæra', 'fjaera', 'fjæra', 'fjæras', 'fjæras', 'fjæras', 'fjaeras', 'fjærer', 'fjærer', 'fjaerer', 'fjærer', 'fjærene', 'fjærene', 'fjaerene', 'fjærene', 'fjær', 'fjær', 'fjaer', 'fjær', 'fjæra', 'fjæra', 'fjaera', 'fjæra', 'fjæras', 'fjæras', 'fjæras', 'fjaeras', 'fjær', 'fjær', 'fjaer', 'fjær', 'fjærene', 'fjærene', 'fjaerene', 'fjærene', 'fjoer', 'fjør', 'fjør', 'fjør', 'fjoeren', 'fjøren', 'fjøren', 'fjøren', 'fjørens', 'fjoerens', 'fjørens', 'fjørens', 'fjoerer', 'fjører', 'fjører', 'fjører', 'fjoerene', 'fjørene', 'fjørene', 'fjørene', 'fjoer', 'fjør', 'fjør', 'fjør', 'fjoeren', 'fjøren', 'fjøren', 'fjøren', 'fjørens', 'fjoerens', 'fjørens', 'fjørens', 'fjoer', 'fjør', 'fjør', 'fjør', 'fjoerene', 'fjørene', 'fjørene', 'fjørene', 'fjoer', 'fjør', 'fjør', 'fjør', 'fjoera', 'fjøra', 'fjøra', 'fjøra', 'fjøras', 'fjoeras', 'fjøras', 'fjøras', 'fjoerer', 'fjører', 'fjører', 'fjører', 'fjoerene', 'fjørene', 'fjørene', 'fjørene', 'fjoer', 'fjør', 'fjør', 'fjør', 'fjoera', 'fjøra', 'fjøra', 'fjøra', 'fjøras', 'fjoeras', 'fjøras', 'fjøras', 'fjoer', 'fjør', 'fjør', 'fjør', 'fjoerene', 'fjørene', 'fjørene', 'fjørene']\n",
      "['oppvarming', 'oppvarmingen', 'oppvarmingens', 'oppvarminger', 'oppvarmingene', 'oppvarming', 'oppvarminga', 'oppvarmingas', 'oppvarminger', 'oppvarmingene', 'oppvarming', 'oppvarminga', 'oppvarmingas', 'oppvarmingar', 'oppvarmingane']\n",
      "['formiddag', 'formiddagen', 'formiddagens', 'formiddager', 'formiddagene']\n",
      "['damp', 'dampen', 'dampens', 'damper', 'dampene', 'damp', 'dampen', 'dampens', 'dampar', 'dampane']\n",
      "['papir', 'papiret', 'papirets', 'papir', 'papira', 'papir', 'papiret', 'papirets', 'papirer', 'papira', 'papir', 'papiret', 'papirets', 'papir', 'papirene', 'papir', 'papiret', 'papirets', 'papirer', 'papirene', 'papir', 'papiret', 'papirets', 'papir', 'papira']\n",
      "['land', 'landet', 'landets', 'land', 'landa', 'land', 'landet', 'landets', 'land', 'landene', 'land', 'landet', 'landets', 'land', 'landa']\n",
      "['anfektelse', 'anfektelsen', 'anfektelsens', 'anfektelser', 'anfektelsene']\n",
      "['nett', 'nettet', 'nettets', 'nett', 'netta', 'nett', 'nettet', 'nettets', 'nett', 'nettene', 'nett', 'nettet', 'nettets', 'nett', 'netta']\n",
      "['rev', 'reven', 'revens', 'rever', 'revene', 'rev', 'reven', 'revens', 'revar', 'revane']\n",
      "['idiot', 'idioten', 'idiotens', 'idioter', 'idiotene', 'idiot', 'idioten', 'idiotens', 'idiotar', 'idiotane']\n",
      "['teip', 'teipen', 'teipens', 'teiper', 'teipene', 'tape', 'tapen', 'tapens', 'taper', 'tapene', 'teip', 'teipen', 'teipens', 'teipar', 'teipane', 'tape', 'tapen', 'tapens', 'tapar', 'tapane']\n"
     ]
    }
   ],
   "source": [
    "create_dataset(lemma2idx, nn_lemma2idx)\n"
   ]
  }
 ],
 "metadata": {
  "kernelspec": {
   "display_name": "glossannotator",
   "language": "python",
   "name": "glossannotator"
  },
  "language_info": {
   "codemirror_mode": {
    "name": "ipython",
    "version": 3
   },
   "file_extension": ".py",
   "mimetype": "text/x-python",
   "name": "python",
   "nbconvert_exporter": "python",
   "pygments_lexer": "ipython3",
   "version": "3.10.12"
  }
 },
 "nbformat": 4,
 "nbformat_minor": 4
}
