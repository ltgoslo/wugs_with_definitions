{
 "cells": [
  {
   "cell_type": "code",
   "execution_count": 2,
   "id": "946cd648-950e-4f4c-8c5c-e724ed768d8e",
   "metadata": {},
   "outputs": [],
   "source": [
    "import csv\n",
    "from glob import glob\n",
    "import json\n",
    "import os\n",
    "import random\n",
    "\n",
    "import pandas as pd"
   ]
  },
  {
   "cell_type": "code",
   "execution_count": 3,
   "id": "5ec44455-e347-4a76-8415-130ebede9456",
   "metadata": {},
   "outputs": [],
   "source": [
    "random.seed=42"
   ]
  },
  {
   "cell_type": "code",
   "execution_count": 1,
   "id": "f7dffe58-dab2-41d5-a1c1-5af44983a084",
   "metadata": {},
   "outputs": [],
   "source": [
    "def pass_folder(predictions_folder, label_data):\n",
    "    for word_path in glob(predictions_folder):\n",
    "        word = os.path.split(word_path)[-1]\n",
    "    \n",
    "        word_uses = pd.read_csv(os.path.join(DWUG_PATH, \"data\", word, \"uses.csv\"), sep=\"\\t\", quoting=csv.QUOTE_NONE)\n",
    "    \n",
    "        clusters_dir = os.path.join(DWUG_PATH, \"clusters/opt\")\n",
    "        if not os.path.exists(clusters_dir):  # no opt in RuDSI data\n",
    "            clusters_dir = os.path.join(DWUG_PATH, \"clusters\")\n",
    "        word_clusters = pd.read_csv(os.path.join(clusters_dir, f\"{word}.csv\"), sep=\"\\t\", quoting=csv.QUOTE_NONE)\n",
    "        word_clusters[CLUSTER_NUMBER_COLUMN] = word_clusters[CLUSTER_NUMBER_COLUMN].astype(int)\n",
    "    \n",
    "        \n",
    "        this_word = word_uses.join(word_clusters.set_index(\"identifier\"), on=\"identifier\")\n",
    "        #print(this_word.head())\n",
    "        \n",
    "        clusters_and_definitions = pd.read_csv(os.path.join(word_path, \"cluster_gloss.tsv\"), sep=\"\\t\")\n",
    "        clusters_and_definitions[\"cluster\"] = clusters_and_definitions.cluster.astype(int)\n",
    "        clusters_and_definitions = clusters_and_definitions[clusters_and_definitions.cluster!=-1]\n",
    "        if clusters_and_definitions.shape[0] > 1:\n",
    "            \n",
    "        \n",
    "            definitions, contexts_list = [], []\n",
    "            for row in clusters_and_definitions.iterrows():\n",
    "                cluster_number, definition = row[1]\n",
    "                \n",
    "                \n",
    "                this_cluster = this_word[this_word[CLUSTER_NUMBER_COLUMN] == cluster_number]\n",
    "                \n",
    "                contexts = []\n",
    "        \n",
    "                for row in this_cluster.iterrows():\n",
    "                    start, end = row[1][\"indexes_target_token\"].split(\":\")\n",
    "                    start, end = int(start), int(end)\n",
    "                    example = row[1][EXAMPLE_COLUMN]\n",
    "                    contexts.append(f\"{example[:start]}<b>{example[start:end]}</b>{example[end:]}\")\n",
    "    \n",
    "                if not contexts: \n",
    "                    print(word)\n",
    "                    print(cluster_number)\n",
    "                try:\n",
    "                    contexts_list.append('<br>'.join(set(random.choices(contexts, k=5))))\n",
    "                except IndexError:\n",
    "                    print(contexts)\n",
    "                    raise IndexError\n",
    "                definitions.append(definition)\n",
    "            \n",
    "            for definition in definitions:\n",
    "                cluster_data = {}\n",
    "                cluster_data[\"data\"] = {\"my_text\": f\"{word.upper()}: {definition}\"}\n",
    "                cluster_data[\"data\"][\"variants\"] = [{\"html\": ctx} for ctx in contexts_list]\n",
    "                label_data.append(cluster_data)\n",
    "    return label_data"
   ]
  },
  {
   "cell_type": "code",
   "execution_count": 9,
   "id": "39cab585-0e23-4e9d-8352-698ba3466b10",
   "metadata": {},
   "outputs": [],
   "source": [
    "label_data = []\n",
    "lang = \"en\"\n",
    "DWUG_PATH = os.path.expanduser(f\"~/PycharmProjects/gloss-annotator/wugs/dwug_{lang}/\")\n",
    "CLUSTER_NUMBER_COLUMN = 'cluster'\n",
    "EXAMPLE_COLUMN = 'context'\n",
    "WORD_COLUMN = 'word'\n",
    "predictions_folder = os.path.expanduser(\"~/PycharmProjects/gloss-annotator/predictions/\")\n",
    "\n",
    "label_data = pass_folder(os.path.join(predictions_folder, f\"pilot_glmlarge_wordnet_l1norm_top3/dwug_{lang}/*\"), label_data)\n",
    "label_data = pass_folder(\n",
    "    os.path.join(\n",
    "    predictions_folder,\n",
    "    f\"pilot_flan-t5-definition-en-xl/dwug_{lang}/*\",\n",
    "    ),\n",
    "    label_data,\n",
    ")\n",
    "label_data = pass_folder(\n",
    "    os.path.join(\n",
    "    predictions_folder,\n",
    "    f\"lesk/dwug_{lang}/*\",\n",
    "    ),\n",
    "    label_data,\n",
    ")\n",
    "random.shuffle(label_data)\n",
    "with open(os.path.expanduser(f\"~/PycharmProjects/label-studio-{lang}.json\"), \"w\") as f:\n",
    "    json.dump(label_data, f)"
   ]
  },
  {
   "cell_type": "markdown",
   "id": "297890e0-9afc-4b48-a937-8a400560fcda",
   "metadata": {},
   "source": [
    "Labeling interface - https://github.com/ltgoslo/gloss-annotator/blob/main/wugs/label_studio_data/labeling_config.xml"
   ]
  }
 ],
 "metadata": {
  "kernelspec": {
   "display_name": "glossannotator",
   "language": "python",
   "name": "glossannotator"
  },
  "language_info": {
   "codemirror_mode": {
    "name": "ipython",
    "version": 3
   },
   "file_extension": ".py",
   "mimetype": "text/x-python",
   "name": "python",
   "nbconvert_exporter": "python",
   "pygments_lexer": "ipython3",
   "version": "3.10.12"
  }
 },
 "nbformat": 4,
 "nbformat_minor": 5
}
