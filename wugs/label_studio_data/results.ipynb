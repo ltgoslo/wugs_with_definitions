{
 "cells": [
  {
   "cell_type": "code",
   "execution_count": 10,
   "id": "f4ff832e-49b9-4e28-8e65-791b6b409b0b",
   "metadata": {},
   "outputs": [],
   "source": [
    "from IPython.display import display, HTML\n",
    "import json\n",
    "import os\n",
    "\n",
    "import pandas as pd"
   ]
  },
  {
   "cell_type": "code",
   "execution_count": 1,
   "id": "61911ba9-a437-415a-b4c3-41dc80a046f1",
   "metadata": {},
   "outputs": [],
   "source": [
    "METHODS = {\n",
    "    \"en\": (\n",
    "        \"glossreader_v1\",\n",
    "        \"mt0-definition-en-xl\",\n",
    "    ),\n",
    "    \"de\": (\n",
    "        \"mt0-definition-en-xl\",\n",
    "        \"glossreader_v1\",\n",
    "    ),\n",
    "    \"no1\": (\n",
    "        \"mt0-definition-no-xl\",\n",
    "    ),\n",
    "    \"no2\": (\n",
    "        \"mt0-definition-no-xl\",\n",
    "    ),\n",
    "    \"ru_ru\": (\n",
    "        \"mt0-definition-ru-xl\",\n",
    "    ),\n",
    "    \"no1_en1\": (\n",
    "        \"mt0-definition-en-xl\",\n",
    "    ),\n",
    "    \"no2_en2\": (\n",
    "        \"mt0-definition-en-xl\",\n",
    "    ),\n",
    "}"
   ]
  },
  {
   "cell_type": "code",
   "execution_count": null,
   "id": "8487e7e4-bb6f-4efc-a007-8e77e384e2aa",
   "metadata": {},
   "outputs": [],
   "source": [
    "lang = \"en\"\n",
    "annotations_path = os.path.expanduser(\"annotations/english.json\")\n",
    "with open(annotations_path, \"r\", encoding=\"utf8\") as f:\n",
    "    annotations = json.load(f)\n",
    "gloss_repo = os.path.expanduser(\"~/PycharmProjects/gloss-annotator\")\n",
    "predictions_folder = os.path.join(gloss_repo, \"predictions\")\n",
    "annotations_dict = {}\n",
    "for sample in annotations:\n",
    "    # TODO don't uppercase my_text\n",
    "    word_gloss = sample[\"data\"][\"my_text\"]\n",
    "    cluster_1 = sample[\"data\"][\"variants\"][0][\"value\"]\n",
    "    cluster_1_text = sample[\"data\"][\"variants\"][0][\"html\"]\n",
    "    cluster_2 = sample[\"data\"][\"variants\"][1][\"value\"]\n",
    "    cluster_2_text = sample[\"data\"][\"variants\"][1][\"html\"]\n",
    "    print(sample)\n",
    "    sample_annotations = sample['annotations']\n",
    "    for annotation in sample_annotations:\n",
    "        cluster_true = annotation['result'][0][\"value\"][\"choices\"][0]\n",
    "        annotations_dict[(word_gloss, cluster_1, cluster_2)] = (cluster_true, cluster_1_text, cluster_2_text)\n",
    "        print(cluster_1)\n",
    "        print(cluster_true)\n"
   ]
  },
  {
   "cell_type": "code",
   "execution_count": 12,
   "id": "81db74ab-d36b-499f-a681-7078224c0d68",
   "metadata": {},
   "outputs": [],
   "source": [
    "CLUSTER_NUMBER_COLUMN = 'cluster'"
   ]
  },
  {
   "cell_type": "code",
   "execution_count": 47,
   "id": "6d1674db-f592-4c84-bd43-995b169dbeee",
   "metadata": {},
   "outputs": [],
   "source": [
    "def print_wrongs(method):\n",
    "    y_true, y_pred = [], []\n",
    "    print(method)\n",
    "    for word in os.listdir(os.path.join(predictions_folder,\n",
    "                                        f\"{method}/dwug_{lang}\")):\n",
    "        predictions_path = os.path.join(predictions_folder,\n",
    "                                        f\"{method}/dwug_{lang}/{word}/cluster_gloss.tsv\")\n",
    "\n",
    "        mapping_path = os.path.join(gloss_repo,\n",
    "                                    f\"wugs/label_studio_data/mappings/{lang}/{word}.tsv\")\n",
    "        try:\n",
    "            mapping = pd.read_csv(mapping_path, sep=\"\\t\").astype(str)\n",
    "        except FileNotFoundError:  # no annotation for this word e.g. if all its clusters are -1 etc.\n",
    "            continue\n",
    "        clusters_and_definitions = pd.read_csv(predictions_path, sep=\"\\t\")\n",
    "        clusters_and_definitions[CLUSTER_NUMBER_COLUMN] = \\\n",
    "            clusters_and_definitions[CLUSTER_NUMBER_COLUMN].astype(str)\n",
    "        clusters_and_definitions = clusters_and_definitions[\n",
    "            clusters_and_definitions[CLUSTER_NUMBER_COLUMN] != \"-1\"]\n",
    "\n",
    "        for row in clusters_and_definitions.iterrows():\n",
    "            cluster_source, definition = row[1][CLUSTER_NUMBER_COLUMN], row[1][\n",
    "                \"gloss\"]\n",
    "            word_gloss = f\"{word.upper()}: <b>{definition.upper()}</b>\"\n",
    "            cluster_filler = mapping[mapping[CLUSTER_NUMBER_COLUMN] == cluster_source][\n",
    "                \"wrong_cluster\"]\n",
    "            if cluster_filler.shape[0]:  # maybe cluster with < 3 usages\n",
    "                cluster_filler = cluster_filler.iloc[0]\n",
    "            else:\n",
    "                continue\n",
    "            \n",
    "            annotation = annotations_dict.get((word_gloss, cluster_source, cluster_filler))\n",
    "            ordering = 0\n",
    "            if annotation is None:\n",
    "                annotation = annotations_dict.get((word_gloss, cluster_filler, cluster_source))\n",
    "                cluster_source_text = annotation[2]\n",
    "                ordering = 1\n",
    "            else:\n",
    "                cluster_source_text = annotation[1]\n",
    "                \n",
    "            \n",
    "\n",
    "            cluster_chosen = annotation[0] # number of cluster chosen by annotator\n",
    "            \n",
    "            \n",
    "            \n",
    "            \n",
    "            if cluster_chosen != cluster_source:\n",
    "                cluster_chosen_text = annotation[2]\n",
    "                if ordering == 1:\n",
    "                    cluster_chosen_text = annotation[1]\n",
    "                display(HTML(word_gloss))\n",
    "                print(\"Cluster chosen by annotator:\")\n",
    "                print(cluster_chosen) # -2 fits none, -3 fits both\n",
    "                display(HTML(cluster_chosen_text))\n",
    "                print(\"Cluster that generated the definition\")\n",
    "                print(cluster_source)\n",
    "                display(HTML(cluster_source_text))\n",
    "                print(\"-------------------------------------------------------------------\")"
   ]
  },
  {
   "cell_type": "code",
   "execution_count": 48,
   "id": "d01aec77-e332-4242-8cd8-7155a4b52770",
   "metadata": {},
   "outputs": [
    {
     "name": "stdout",
     "output_type": "stream",
     "text": [
      "mt0-definition-en-xl\n"
     ]
    },
    {
     "data": {
      "text/html": [
       "PLAYER_NN: <b>ONE WHO PLAYS A PART IN A GAME OR SPORT.</b>"
      ],
      "text/plain": [
       "<IPython.core.display.HTML object>"
      ]
     },
     "metadata": {},
     "output_type": "display_data"
    },
    {
     "name": "stdout",
     "output_type": "stream",
     "text": [
      "Cluster chosen by annotator:\n",
      "-2\n"
     ]
    },
    {
     "data": {
      "text/html": [
       "- You have to rationalize its commitment to the warrior values that, nostalgized and bastardized, would help make Japan such a cruel and dangerous <b>player</b> on the world stage less than a century later.<br>- he said in an even tone that was singularly marked amid the buzz of those around him; for each <b>player</b> had now got to feel the affair to be his own, and to take an absorbing interest in every step that should now be taken.<br>- She maintains a whippet-thin body (thanks to regular running, even when she's facing 18 hours on a set) and pals around with industry <b>players</b> such as her agent Elaine Goldsmith-Thomas, who gets Roberts $12 million a picture.<br>- was Joel who had poured everything he had into the firm for the past ten years, Joel who had single-handedly turned it into a major <b>player</b> in the marketplace.<br>- By focusing resources // and expertise on a single product, a farmer could raise output and lower // costs; instead of buying different technologies for each of several crops or // animals, he now spread the costs of a single set of technologies -- for raising // corn, for example, or wheat -- over more bushels // To be sure, a more rationalized agriculture was far more reliant on // outside <b>players</b>.<hr>"
      ],
      "text/plain": [
       "<IPython.core.display.HTML object>"
      ]
     },
     "metadata": {},
     "output_type": "display_data"
    },
    {
     "name": "stdout",
     "output_type": "stream",
     "text": [
      "Cluster that generated the definition\n",
      "1\n"
     ]
    },
    {
     "data": {
      "text/html": [
       "- A popular Judge, \" says the great Bacon, \" is a deformed thing; and plaudites ' are fitter for <b>players</b> than for magistrates.<br>- If the poet write a true drama, then he is Caesar, and not the <b>player</b> of Caesar; then the selfsame strain of thought, emotion as pure, wit as subtle, motions as swift, mounting, extravagant, and a heart as great, self-sufficing, dauntless, which on the waves of its love and hope can uplift all that is reckoned solid and precious in the world, - - palaces, gardens, money, navies, kingdoms, - - marking its own incomparable worth by the slight it casts on these gauds of men; these all are his, and by the power of these he rouses the nations.<br>- read, (and all read in this our happy land;) this book will be sought after by the fair sex, inasmuch as it treats of the gay and the grave -- the good and bad -- of ladies, and of those who, next to soldiers, are the delight of ladies; we mean <b>players</b>; those lively, happy, delightful children of the mimic world, who present to the minds of youth a picture of enchanting power, ever varying and ever bright.<br>- I KNOW of no one who has acquired and begot this temperance of which Hamlet speaks, in the same degree with Mrs. Kemble; I know of nothing that more exactly describes the style and school of elocution in which she excels, than this advice to the <b>players</b>.<br>- The <b>players</b> through me, desire to make you their most respectful bow, thanking you for your good company.<hr>"
      ],
      "text/plain": [
       "<IPython.core.display.HTML object>"
      ]
     },
     "metadata": {},
     "output_type": "display_data"
    },
    {
     "name": "stdout",
     "output_type": "stream",
     "text": [
      "-------------------------------------------------------------------\n"
     ]
    },
    {
     "data": {
      "text/html": [
       "PROP_NN: <b>SOMETHING USED TO SUPPORT OR MAINTAIN AN OBJECT, SCENE, ETC.</b>"
      ],
      "text/plain": [
       "<IPython.core.display.HTML object>"
      ]
     },
     "metadata": {},
     "output_type": "display_data"
    },
    {
     "name": "stdout",
     "output_type": "stream",
     "text": [
      "Cluster chosen by annotator:\n",
      "1\n"
     ]
    },
    {
     "data": {
      "text/html": [
       "- What most of all surprised me in this man was, that the decree had scarcely been made public, when he audaciously offered me his hand, threatening, should I reject it, to give me up to justice Alarmed by his threats, and disgusted by his importunity, I fled from the asylum whither he had beguiled me, and bent my course towards Lausanne, having no <b>prop</b> but my conscience, -- no<br>- taking away an earthly <b>prop</b>, he will lead you to lean upon his own all-sufficient never failing strength.<br>- 'd me its brightest hope, its future <b>prop</b>.<br>- was not like Elizabeth; for though she heard the remark, she did not even change color, but went up to the boy, and put both arms about his neck with a smile, and gave him a hearty kiss.... and bid him be a good boy, and a <b>prop</b> for his widowed mother.<br>- But as his bud became a flower, His selfish soul was gratified; He saw her wondrous beauty's power Would be the <b>prop</b> to raise his pride -- As vine the bending tree sustains,<hr>"
      ],
      "text/plain": [
       "<IPython.core.display.HTML object>"
      ]
     },
     "metadata": {},
     "output_type": "display_data"
    },
    {
     "name": "stdout",
     "output_type": "stream",
     "text": [
      "Cluster that generated the definition\n",
      "2\n"
     ]
    },
    {
     "data": {
      "text/html": [
       "- (Her mummified head-the wax <b>prop</b>, actually-qualifies as the most gruesome object in the exhibition.)<br>- We can mask with muscular control (poker face) or with a <b>prop</b> (toupee, wig, or colored contact lenses).<br>- What Ruth Draper did through the first half of this century was to go out on a stage, with very few <b>props</b>, and become various characters -- a Maine fisherman's wife, an English tourist in Italy, a Scottish immigrant at Ellis Island?<br>- paperback books, such cheap <b>props</b> as ping-pong balls and drinking straws.<br>- \" Reporting on these elaborate new techniques of computer graphics, which created the most imaginative of TRON's sets and <b>props</b>, were Los Angeles ' Russell Leavitt and New York and props, were Los Angeles ' Russell Leavitt and New York Reporter-Researcher Peter Ainslie.<hr>"
      ],
      "text/plain": [
       "<IPython.core.display.HTML object>"
      ]
     },
     "metadata": {},
     "output_type": "display_data"
    },
    {
     "name": "stdout",
     "output_type": "stream",
     "text": [
      "-------------------------------------------------------------------\n"
     ]
    },
    {
     "data": {
      "text/html": [
       "PROP_NN: <b>A STANDING SUPPORT FOR A VEHICLE OR AIRCRAFT.</b>"
      ],
      "text/plain": [
       "<IPython.core.display.HTML object>"
      ]
     },
     "metadata": {},
     "output_type": "display_data"
    },
    {
     "name": "stdout",
     "output_type": "stream",
     "text": [
      "Cluster chosen by annotator:\n",
      "-2\n"
     ]
    },
    {
     "data": {
      "text/html": [
       "- What most of all surprised me in this man was, that the decree had scarcely been made public, when he audaciously offered me his hand, threatening, should I reject it, to give me up to justice Alarmed by his threats, and disgusted by his importunity, I fled from the asylum whither he had beguiled me, and bent my course towards Lausanne, having no <b>prop</b> but my conscience, -- no<br>- taking away an earthly <b>prop</b>, he will lead you to lean upon his own all-sufficient never failing strength.<br>- 'd me its brightest hope, its future <b>prop</b>.<br>- was not like Elizabeth; for though she heard the remark, she did not even change color, but went up to the boy, and put both arms about his neck with a smile, and gave him a hearty kiss.... and bid him be a good boy, and a <b>prop</b> for his widowed mother.<br>- But as his bud became a flower, His selfish soul was gratified; He saw her wondrous beauty's power Would be the <b>prop</b> to raise his pride -- As vine the bending tree sustains,<hr>"
      ],
      "text/plain": [
       "<IPython.core.display.HTML object>"
      ]
     },
     "metadata": {},
     "output_type": "display_data"
    },
    {
     "name": "stdout",
     "output_type": "stream",
     "text": [
      "Cluster that generated the definition\n",
      "3\n"
     ]
    },
    {
     "data": {
      "text/html": [
       "- Lowering pitch usually raises engine rpm, so 25- or 24-inch-pitch props would likely have resulted in more rpm and more mph than our 26-inch <b>props</b>.<br>- The clopping sounds of the Apache's <b>props</b> grew louder.<br>- Perhaps the most revolutionary breakthrough in this field is the development of hydraulic <b>props</b> to replace the old wooden pillars.<br>- The monster <b>prop</b>, which cost $320,000, stretched a twisting 125 feet across its two fabricated aluminum-covered blades.<br>- In addition to the new IL-96, Ilyushin now makes the IL-114, a regional two-engine <b>prop</b>, the four-engine IL-76 cargo jet, and the IL-103, a small, single-engine private plane that in December was actually the first Russian airplane to receive F.A.A.<hr>"
      ],
      "text/plain": [
       "<IPython.core.display.HTML object>"
      ]
     },
     "metadata": {},
     "output_type": "display_data"
    },
    {
     "name": "stdout",
     "output_type": "stream",
     "text": [
      "-------------------------------------------------------------------\n"
     ]
    },
    {
     "data": {
      "text/html": [
       "BALL_NN: <b>BRAVERY, COURAGE, CHUTZPAH, OR BRAZENNESS.</b>"
      ],
      "text/plain": [
       "<IPython.core.display.HTML object>"
      ]
     },
     "metadata": {},
     "output_type": "display_data"
    },
    {
     "name": "stdout",
     "output_type": "stream",
     "text": [
      "Cluster chosen by annotator:\n",
      "-2\n"
     ]
    },
    {
     "data": {
      "text/html": [
       "- There was a magnificent <b>ball</b> at the Prince M -- ' s the second evening after Norman's adventure with the panel.<br>- morning and evening, dined every day in <b>ball</b>, and never went to a single evening party.<br>- It was untoward; but in the course of the evening she was a little comforted by a proposal from Lady Rotherwood to take her and Lilias to a <b>ball</b> at Raynham, which was to take place in January; and as soon as the gentlemen appeared, they submitted the invitation to their father, while Lady Rotherwood pressed William to accompany them, and he was refusing. '<br>- what angry brawls To gain the lady's hand at <b>balls</b>!<br>- One said that he had searched the Bible from Genesis to Revelation, and he could not find a text that expressly treated of that enormity, but that was manifestly because it was a sin too heinous to be spoken of in holy writ; he said that dancing was one of the most offensive of all the rites of those savage nations that were under the immediate and visible government of the prince of this world; and, finally, he referred them to the church documents, those precious records of the piety, and wisdom, and purity of their ancestors; and they would there find a rule which prohibited any church-member from frequenting, or being present at, a <b>ball</b>, or dance, or frolic, or any such assembly of Satan; and they would moreover find<hr>"
      ],
      "text/plain": [
       "<IPython.core.display.HTML object>"
      ]
     },
     "metadata": {},
     "output_type": "display_data"
    },
    {
     "name": "stdout",
     "output_type": "stream",
     "text": [
      "Cluster that generated the definition\n",
      "4\n"
     ]
    },
    {
     "data": {
      "text/html": [
       "- Aesop sighed, grabbed hold of his <b>balls</b> with his left hand -- which was how the two of us swore to sacred oaths -- and lifted his right hand into the air. \"<br>- More rambling here, but the short version is the woman's crazy, the kind who says one thing and does another, wants control of every facet of his life, always has to know where he's been, who he's been with, like she hasn't got his <b>balls</b> already and that isn't enough. \"<br>- He'd be a eunuch if you cut his <b>balls</b> off.<hr>"
      ],
      "text/plain": [
       "<IPython.core.display.HTML object>"
      ]
     },
     "metadata": {},
     "output_type": "display_data"
    },
    {
     "name": "stdout",
     "output_type": "stream",
     "text": [
      "-------------------------------------------------------------------\n"
     ]
    },
    {
     "data": {
      "text/html": [
       "RELATIONSHIP_NN: <b>THE WAY IN WHICH TWO OR MORE THINGS ARE CONNECTED, OR IN WHICH TWO OR MORE THINGS ARE RELATED.</b>"
      ],
      "text/plain": [
       "<IPython.core.display.HTML object>"
      ]
     },
     "metadata": {},
     "output_type": "display_data"
    },
    {
     "name": "stdout",
     "output_type": "stream",
     "text": [
      "Cluster chosen by annotator:\n",
      "-3\n"
     ]
    },
    {
     "data": {
      "text/html": [
       "- Emmy My heart needs no <b>relationship</b> to strengthen its love to you.<br>- Members of a tennis club or a volunteer organization who comment on our versatility provide a weak basis for generalizing about how we might perform in <b>relationships</b> as a manager, salesman, teacher, or parent.<br>- In addition, for new customers, CDs give him a foot in the door and a broker-client <b>relationship</b> that may permit him to offer other financial products later.<br>- Be this, however, as it may, the officers, whether of the Union or the States, represent, in philosophical truth of <b>relationship</b>, just those for whom they act.<br>- Among the squaws is No-Nos-See, the She Wolf, a niece of the famous Black Hawk, and very proud of the <b>relationship</b>; and Do-HumMe, the Productive Pumpkin, a very handsome woman, with a great deal of heart and happiness in her countenance. \"<hr>"
      ],
      "text/plain": [
       "<IPython.core.display.HTML object>"
      ]
     },
     "metadata": {},
     "output_type": "display_data"
    },
    {
     "name": "stdout",
     "output_type": "stream",
     "text": [
      "Cluster that generated the definition\n",
      "1\n"
     ]
    },
    {
     "data": {
      "text/html": [
       "- The same fashion has represented the kingdom of grace alone, as connected wiHi the atonement of Jesus Christ; supposing the kingdom of nature and the kingdom of providence to sustain no <b>relationship</b> to his mediation.<br>- By contrast, the vowel <b>relationships</b> in the Indo-European languages were extensively examined to arrive at current analyses.<br>- The <b>relationship</b> is this: Characters both do and feel, James observed, but their actions impart interest only in terms of their feelings; to represent the wholeness of the character, therefore?<br>- Unfortunately, there are insufficient data with which to assess the <b>relationship</b> between urban population growth and violence in other regions of the world.<br>- description, though they have no botanical <b>relationship</b>; though they are natives of different countries; and though some are deciduous, and others evergreens.<hr>"
      ],
      "text/plain": [
       "<IPython.core.display.HTML object>"
      ]
     },
     "metadata": {},
     "output_type": "display_data"
    },
    {
     "name": "stdout",
     "output_type": "stream",
     "text": [
      "-------------------------------------------------------------------\n"
     ]
    },
    {
     "data": {
      "text/html": [
       "STAB_NN: <b>A SUDDEN SHARP FEELING.</b>"
      ],
      "text/plain": [
       "<IPython.core.display.HTML object>"
      ]
     },
     "metadata": {},
     "output_type": "display_data"
    },
    {
     "name": "stdout",
     "output_type": "stream",
     "text": [
      "Cluster chosen by annotator:\n",
      "-2\n"
     ]
    },
    {
     "data": {
      "text/html": [
       "- Find out every little thing they found in that <b>stab</b> wound. \"<br>- And with the words he dealt her three <b>stabs</b>, the least of which was mortal; but, even in that moment of dread passion, with fiendish ingenuity he endeavored<br>- And here is more audacity in the <b>stabbing</b> of Rintoul, \" Houdon continued. \"<br>- Napoleon hoped that he was now secure from a <b>stab</b> in the back.<br>- Arvina staggered back like a man who has received a mortal <b>stab</b>, as he read those fatal words; and stared about him with a wild and wandering eye.<hr>"
      ],
      "text/plain": [
       "<IPython.core.display.HTML object>"
      ]
     },
     "metadata": {},
     "output_type": "display_data"
    },
    {
     "name": "stdout",
     "output_type": "stream",
     "text": [
      "Cluster that generated the definition\n",
      "1\n"
     ]
    },
    {
     "data": {
      "text/html": [
       "- Herbert Waverly Wait; not long since, only a few months ago, it smote upon my heart like a sudden <b>stab</b> that there was a something, I knew not what, wanting in our perfect understanding of each other.<br>- Frederick Bramble I deprecate the cruel critic's <b>stabs</b>.<br>- But in March, 1778, two years after its adoption, the new constitution received a number of violent legislative <b>stabs</b>, and a substitute for it was presented to him by<br>- How his eyes flashed -- how his deep tones rung through the chamber, as he uttered words like these: -- \" These facts -- (the long recital of galling wrongs) -- have given the last <b>stab</b> to agonizing affection, and manly spirit bids us renounce forever these unfeeling brethren.<br>- I don't deny that there was a pang in it, yes, a <b>stab</b>; but there was a prayer, too, - - the \" Amen \" belonged to that.<hr>"
      ],
      "text/plain": [
       "<IPython.core.display.HTML object>"
      ]
     },
     "metadata": {},
     "output_type": "display_data"
    },
    {
     "name": "stdout",
     "output_type": "stream",
     "text": [
      "-------------------------------------------------------------------\n"
     ]
    },
    {
     "data": {
      "text/html": [
       "RALLY_NN: <b>A RENEWED EFFORT TO RECOVER LOST EFFORT.</b>"
      ],
      "text/plain": [
       "<IPython.core.display.HTML object>"
      ]
     },
     "metadata": {},
     "output_type": "display_data"
    },
    {
     "name": "stdout",
     "output_type": "stream",
     "text": [
      "Cluster chosen by annotator:\n",
      "-3\n"
     ]
    },
    {
     "data": {
      "text/html": [
       "- One halt was made to remove and change all leather boots, which, in consequence of our late warm weather, had been taken into use, but were now no longer safe; and then, with a <b>rally</b>, the piled-up floe around the cliffs of Cape Walker was reached.<br>- the fight itself -- for placing vividly before you all the alternations between defeat and victory in a hard fought field -- for hurrying the reader breathlessly along with the current of events, so that he fancies himself a spectator of, almost an actor in the scene, and feels a personal interest in the fate of the several combatants -- for seizing instinctively on the strongest and most picturesque points of the combat -- for placing fair in view the wheeling, advancing, and retreating of the several squadrons and bodies of troops -- the dread closing and deadly strife of the mortal foes -- the charge, the <b>rally</b>, the rout, the flight, and the pursuit -- in all of these Scott has never been approached.<br>- At a mass <b>rally</b> to dedicate a $3,500,000 Russian-built hospital, tension sharpened.<br>- Ogilvie, whose absence from campaign <b>rallies</b> could not be matched in the memory of veteran politicians.<br>- , let me <b>rally</b> our brave men again, And cheer their drooping spirits for the fight.<hr>"
      ],
      "text/plain": [
       "<IPython.core.display.HTML object>"
      ]
     },
     "metadata": {},
     "output_type": "display_data"
    },
    {
     "name": "stdout",
     "output_type": "stream",
     "text": [
      "Cluster that generated the definition\n",
      "1\n"
     ]
    },
    {
     "data": {
      "text/html": [
       "- A brilliant <b>rally</b> followed -- we calling off our wearied dogs, and hasting to the lower road, where we found Garry with the sleighs, and dashing off in our turn through all sorts of bye-paths and wood-roads to head them once again!<br>- Captain Combs ' position threw him in the rear in this movement, and, although severely wounded in the shoulder by a ball, which remained lodged in his body, and bleeding profusely, he was enabled now and then to make a <b>rally</b> and drive back the painted devils, when they would be rushing up too closely upon his command.<br>- It had resources, and means of <b>rally</b>, which are always important considerations to a militia command.<br>- A <b>rally</b> was, indeed, made, and a few volleys returned, but with no other effect than to draw a thicker and more deadly fire from the concealed and evidently unharmed enemy.<br>- With an unerring instinct and sagacity peculiar to an incensed and outraged people; they struck at the centre of this unholy combination -- the sun of the system around which all the lesser luminaries revolved, and from which they drew their light and heat, and the princples of vitality; they struck their first blow at the Bank of the United States, the main pillar of strength to the nllied forces; their high tower of defence into which they retreated in the hour of distress for council and succor, and whence went forth the signal for the <b>rally</b> or the onset; they first resolved on the destruction of that Mother of Jacobins, ' who could call to her aid a thousand affiliated and kindred inst; tutions, living on the pabulum she furnished<hr>"
      ],
      "text/plain": [
       "<IPython.core.display.HTML object>"
      ]
     },
     "metadata": {},
     "output_type": "display_data"
    },
    {
     "name": "stdout",
     "output_type": "stream",
     "text": [
      "-------------------------------------------------------------------\n"
     ]
    },
    {
     "data": {
      "text/html": [
       "BIT_NN: <b>A SMALL PORTION.</b>"
      ],
      "text/plain": [
       "<IPython.core.display.HTML object>"
      ]
     },
     "metadata": {},
     "output_type": "display_data"
    },
    {
     "name": "stdout",
     "output_type": "stream",
     "text": [
      "Cluster chosen by annotator:\n",
      "-3\n"
     ]
    },
    {
     "data": {
      "text/html": [
       "- \" Mamma, I once remember cutting a bit of paper into halves -- that is to say, I first cut it into halves, and then cut one half into halves and so on, till my scissors would not divide the little <b>bit</b>.<br>- but he's only a <b>bit</b> retarded, you know, a simple young fellow.<br>- I got a little <b>bit</b> of good news. \"<br>- To my surprise, Ralf seemed every <b>bit</b> as cheerful as he had been on the way south.<br>- p. 104 VIC I'll be along in a <b>bit</b>.<hr>"
      ],
      "text/plain": [
       "<IPython.core.display.HTML object>"
      ]
     },
     "metadata": {},
     "output_type": "display_data"
    },
    {
     "name": "stdout",
     "output_type": "stream",
     "text": [
      "Cluster that generated the definition\n",
      "1\n"
     ]
    },
    {
     "data": {
      "text/html": [
       "- said the old lady, \" every <b>bit</b> and grain of my comfort is gone, \" and removing her spectacles she continued silently rubbing them through her apron till Ellen, who was standing at the window on tip-toe, announced that Jane Stilman was coming with her \" changeable silk on. \"<br>- Here, you Mose, Pete, \" he said, breaking off liberal <b>bits</b>, and throwing it at them; \" you want some, don't you?<br>- surveyors met, and, notwithstanding long rigmarole remarks from farmer Styles, who was a <b>bit</b> of a scamp, the surveying progressed rapidly.<br>- It doesn't suit her one <b>bit</b>, he decides, the hard rim of the bedpan digging into his coccyx.<br>- The only child he really likes is Susie, the Eichelburger girl across the hedge and alleyway and white barn, who's high-strung and secretive, and every <b>bit</b> as friendless as he is.<hr>"
      ],
      "text/plain": [
       "<IPython.core.display.HTML object>"
      ]
     },
     "metadata": {},
     "output_type": "display_data"
    },
    {
     "name": "stdout",
     "output_type": "stream",
     "text": [
      "-------------------------------------------------------------------\n"
     ]
    },
    {
     "data": {
      "text/html": [
       "LAND_NN: <b>AN INSTANCE OF LANDING ON SOMETHING.</b>"
      ],
      "text/plain": [
       "<IPython.core.display.HTML object>"
      ]
     },
     "metadata": {},
     "output_type": "display_data"
    },
    {
     "name": "stdout",
     "output_type": "stream",
     "text": [
      "Cluster chosen by annotator:\n",
      "1\n"
     ]
    },
    {
     "data": {
      "text/html": [
       "- At an early hour, the whole city was in motion; almost every man, woman and child was preparing to witness the <b>landing</b> of their much respected guest.<br>- I looked up and stood dumbstruck to see an actual airplane come stuttering down to a <b>landing</b> - just like in the movie Wings.<br>- When the feathers <b>land</b>, some piles will be bigger than others. \"<br>- Simultaneously, local operatives in the Southeast China port of Swatow, the city near the planned <b>landing</b>, made hundreds of area photographs and closely monitored local Chinese security forces.<br>- He <b>lands</b>, head first, sprawling into the cops and knocking about half of them off their feet.<hr>"
      ],
      "text/plain": [
       "<IPython.core.display.HTML object>"
      ]
     },
     "metadata": {},
     "output_type": "display_data"
    },
    {
     "name": "stdout",
     "output_type": "stream",
     "text": [
      "Cluster that generated the definition\n",
      "2\n"
     ]
    },
    {
     "data": {
      "text/html": [
       "- What length of time was required for him to amass sufficient daring to venture the narrow flight of stairs to the attic <b>landing</b> I can't say.<br>- They reached the last <b>landing</b> and then the inner courtyard and now they saw why they had not been challenged yet: fires had broken out following the explosions and the courtyard was filled with black smoke.<br>- On the <b>landing</b> she's waiting patiently; a girl without a calendar.<hr>"
      ],
      "text/plain": [
       "<IPython.core.display.HTML object>"
      ]
     },
     "metadata": {},
     "output_type": "display_data"
    },
    {
     "name": "stdout",
     "output_type": "stream",
     "text": [
      "-------------------------------------------------------------------\n"
     ]
    },
    {
     "data": {
      "text/html": [
       "HEEL_NN: <b>THE PART OF THE HUMAN FOOT ABOVE THE ANKLE.</b>"
      ],
      "text/plain": [
       "<IPython.core.display.HTML object>"
      ]
     },
     "metadata": {},
     "output_type": "display_data"
    },
    {
     "name": "stdout",
     "output_type": "stream",
     "text": [
      "Cluster chosen by annotator:\n",
      "-2\n"
     ]
    },
    {
     "data": {
      "text/html": [
       "- watch, and walked as if the tall <b>heels</b> of his blunt boots were egg-shells and not leather.<br>- She wore a blue-flowered summer skirt that hung to her knees, baby blue <b>heels</b>, a white blouse, and a lightweight tan leather jacket with a braided fringe.<br>- Miles and Grace were almost the exact same height, she in those <b>heels</b> she always wore, and, in the new spring sunlight, their hair seemed about the same color, his shining white, hers the palest blond.<br>- Since then I waited up every night, and tonight I missed her going in but I heard her high <b>heels</b> come down your stairs.<br>- Women, having lunch, wear nylons and high <b>heels</b> and imitation pearl necklaces.<hr>"
      ],
      "text/plain": [
       "<IPython.core.display.HTML object>"
      ]
     },
     "metadata": {},
     "output_type": "display_data"
    },
    {
     "name": "stdout",
     "output_type": "stream",
     "text": [
      "Cluster that generated the definition\n",
      "0\n"
     ]
    },
    {
     "data": {
      "text/html": [
       "- Father Willie went skidding across the floor, Spencer Van Moot dragging him by the <b>heels</b>.<br>- I started after, but was tripped up by my inexpressibles, which either from habit, or the excitement of the moment, were about my <b>heels</b>, and before I had really gathered myself up, I heard the old varmint groaning in a thicket near by, like a thousand sinners, and by the time I reached him he was a corpse.<br>- At his <b>heels</b> is a LITTLE BOY, eager to be helpful, carrying a plastic sand shovel.<br>- Then I thought I might as wellp223go inside and see if my grandmother had come home, or if Dan had persuaded her to kick up her <b>heels</b> -- such as she was willing -- at the cast party.<br>- Flick a lever and you can easily remove toe and <b>heel</b>; if you have a few pairs of skis mounted with Speedlock plates, you'll only need one set of toe- and heelpieces.<hr>"
      ],
      "text/plain": [
       "<IPython.core.display.HTML object>"
      ]
     },
     "metadata": {},
     "output_type": "display_data"
    },
    {
     "name": "stdout",
     "output_type": "stream",
     "text": [
      "-------------------------------------------------------------------\n"
     ]
    },
    {
     "data": {
      "text/html": [
       "HEEL_NN: <b>THE BACK PART OF THE LEG OF A HUMAN BEING.</b>"
      ],
      "text/plain": [
       "<IPython.core.display.HTML object>"
      ]
     },
     "metadata": {},
     "output_type": "display_data"
    },
    {
     "name": "stdout",
     "output_type": "stream",
     "text": [
      "Cluster chosen by annotator:\n",
      "-2\n"
     ]
    },
    {
     "data": {
      "text/html": [
       "- watch, and walked as if the tall <b>heels</b> of his blunt boots were egg-shells and not leather.<br>- She wore a blue-flowered summer skirt that hung to her knees, baby blue <b>heels</b>, a white blouse, and a lightweight tan leather jacket with a braided fringe.<br>- Miles and Grace were almost the exact same height, she in those <b>heels</b> she always wore, and, in the new spring sunlight, their hair seemed about the same color, his shining white, hers the palest blond.<br>- Since then I waited up every night, and tonight I missed her going in but I heard her high <b>heels</b> come down your stairs.<br>- Women, having lunch, wear nylons and high <b>heels</b> and imitation pearl necklaces.<hr>"
      ],
      "text/plain": [
       "<IPython.core.display.HTML object>"
      ]
     },
     "metadata": {},
     "output_type": "display_data"
    },
    {
     "name": "stdout",
     "output_type": "stream",
     "text": [
      "Cluster that generated the definition\n",
      "1\n"
     ]
    },
    {
     "data": {
      "text/html": [
       "- Immediately in the <b>heels</b> of the judge -- he had walked down with that functionary, that he might enjoy an opportunity to color his mind to the right complexion for a case that was coming on<br>- forward, but his followers took to their <b>heels</b> and fled away.<br>- The immediacy of his mission gave flight to his <b>heels</b>.<br>- Thus, construction was heaped upon construction, evasion followed evasion, one fantastic fiction became the excuse of a fiction still more fantastic, amendment trod upon the <b>heels</b> of amendment, until the whole mass seemed like a vast pile of rubbish, or rather like some // of those ancient structures which are seen in Italy, with here a broA ken column, there a shattered portico, in the third place a crumbling roof, but the whole grotesquely stuck together with plaster and wood, to make a modern habitation.<br>- stairs and through the corridor, holding the light above his head, while Betsy follows at his <b>heels</b>, rubbing her eyes in order to assure herself that it is no dream.<hr>"
      ],
      "text/plain": [
       "<IPython.core.display.HTML object>"
      ]
     },
     "metadata": {},
     "output_type": "display_data"
    },
    {
     "name": "stdout",
     "output_type": "stream",
     "text": [
      "-------------------------------------------------------------------\n"
     ]
    },
    {
     "data": {
      "text/html": [
       "EDGE_NN: <b>A BORDER ; AN OUTER PORTION OF SOMETHING.</b>"
      ],
      "text/plain": [
       "<IPython.core.display.HTML object>"
      ]
     },
     "metadata": {},
     "output_type": "display_data"
    },
    {
     "name": "stdout",
     "output_type": "stream",
     "text": [
      "Cluster chosen by annotator:\n",
      "0\n"
     ]
    },
    {
     "data": {
      "text/html": [
       "- Soon, all along the now desolate shores of the Forth and Clyde, villas and pleasure grounds would be as thick as along the <b>edges</b> of the Dutch canals.<br>- Zephyr, still loosely clinging to his foe, allowed himself to be dragged to the <b>edge</b> of the cliff, the opposite column shouting all the while their yells of triumph, when suddenly he untwisted his legs, threw a back somerset, wrenched himself free from Orson's clutches as he did so, and then stood on his feet at the head of his column, while his antagonist, who, with his whole party, had been tugging with might and main to drag their enemies to the brow of the precipice, now suddenly released from the opposing pressure, toppled backwards upon his men, who all fell one upon another, heels over head, down the steep side of the mount, rolling helter-skelter on each other, till they reached the marsh below, some of them even sousing themselves in the creek at the base of the hill, before the impetus of their descent<br>- in 1, $3; cloth, $1.50; gilt <b>edges</b>, $2.50.<br>- The stem, of a brownish colour and three inches long, has circular leaves with lobes, and indented at the <b>edges</b>.<br>- Before the door stood two lofty posts, connected at the top by a beam, from which was suspended an enormous sign, ornamented around its <b>edges</b> with certain curious carvings in pine boards, and on its faces loaded with Masonic emblems.<hr>"
      ],
      "text/plain": [
       "<IPython.core.display.HTML object>"
      ]
     },
     "metadata": {},
     "output_type": "display_data"
    },
    {
     "name": "stdout",
     "output_type": "stream",
     "text": [
      "Cluster that generated the definition\n",
      "4\n"
     ]
    },
    {
     "data": {
      "text/html": [
       "- That year he had lived in a third-story room in a wooden house on the <b>edge</b> of Cambridge.<br>- // <b>edge</b> of herbs, roots, and waters, in any of the king's dominions, to minister in and to any outward sore, uncome, wound, apostemation, outward swellings or disease, any herbs, ointments, baths, pultess and emplasters, according to their cunning, ' or drinks for the stone, strangury, or agues, without suit, vexation, trouble, penalty, or loss of their goods. '<br>- When the <b>edging</b> is planted, let any inequalities of the top be cut as even and neat as possible, with a pair of shears.<hr>"
      ],
      "text/plain": [
       "<IPython.core.display.HTML object>"
      ]
     },
     "metadata": {},
     "output_type": "display_data"
    },
    {
     "name": "stdout",
     "output_type": "stream",
     "text": [
      "-------------------------------------------------------------------\n"
     ]
    },
    {
     "data": {
      "text/html": [
       "EDGE_NN: <b>A SHARP OR POINTED PART OF SOMETHING</b>"
      ],
      "text/plain": [
       "<IPython.core.display.HTML object>"
      ]
     },
     "metadata": {},
     "output_type": "display_data"
    },
    {
     "name": "stdout",
     "output_type": "stream",
     "text": [
      "Cluster chosen by annotator:\n",
      "-2\n"
     ]
    },
    {
     "data": {
      "text/html": [
       "- Soon, all along the now desolate shores of the Forth and Clyde, villas and pleasure grounds would be as thick as along the <b>edges</b> of the Dutch canals.<br>- Zephyr, still loosely clinging to his foe, allowed himself to be dragged to the <b>edge</b> of the cliff, the opposite column shouting all the while their yells of triumph, when suddenly he untwisted his legs, threw a back somerset, wrenched himself free from Orson's clutches as he did so, and then stood on his feet at the head of his column, while his antagonist, who, with his whole party, had been tugging with might and main to drag their enemies to the brow of the precipice, now suddenly released from the opposing pressure, toppled backwards upon his men, who all fell one upon another, heels over head, down the steep side of the mount, rolling helter-skelter on each other, till they reached the marsh below, some of them even sousing themselves in the creek at the base of the hill, before the impetus of their descent<br>- in 1, $3; cloth, $1.50; gilt <b>edges</b>, $2.50.<br>- The stem, of a brownish colour and three inches long, has circular leaves with lobes, and indented at the <b>edges</b>.<br>- Before the door stood two lofty posts, connected at the top by a beam, from which was suspended an enormous sign, ornamented around its <b>edges</b> with certain curious carvings in pine boards, and on its faces loaded with Masonic emblems.<hr>"
      ],
      "text/plain": [
       "<IPython.core.display.HTML object>"
      ]
     },
     "metadata": {},
     "output_type": "display_data"
    },
    {
     "name": "stdout",
     "output_type": "stream",
     "text": [
      "Cluster that generated the definition\n",
      "5\n"
     ]
    },
    {
     "data": {
      "text/html": [
       "- Despair lent vigor and swiftness to the horse and foot of Palmyra -- rage at the long continued contest -- revenge for all they had lost and endured, nerved the Roman arm, and gave a double <b>edge</b> to its sword.<br>- Besides the distinctive common faith ' of evangelical Christians, Spurgeon preaches Calvinism too, sometimes ultra Calvinism, as it will be called, with all its <b>edges</b> and points, but in his use it has so much vitality that it may be accepted for the theology of the feelings ' by many who would question it<br>- square, yet sharp, having an <b>edge</b> though no point: in short, such a combination of feature and limb in face and person, was never seen before nor since.<hr>"
      ],
      "text/plain": [
       "<IPython.core.display.HTML object>"
      ]
     },
     "metadata": {},
     "output_type": "display_data"
    },
    {
     "name": "stdout",
     "output_type": "stream",
     "text": [
      "-------------------------------------------------------------------\n"
     ]
    },
    {
     "data": {
      "text/html": [
       "EDGE_NN: <b>A SHARP, NARROW, OR MARGIN ; A BORDER.</b>"
      ],
      "text/plain": [
       "<IPython.core.display.HTML object>"
      ]
     },
     "metadata": {},
     "output_type": "display_data"
    },
    {
     "name": "stdout",
     "output_type": "stream",
     "text": [
      "Cluster chosen by annotator:\n",
      "-3\n"
     ]
    },
    {
     "data": {
      "text/html": [
       "- Soon, all along the now desolate shores of the Forth and Clyde, villas and pleasure grounds would be as thick as along the <b>edges</b> of the Dutch canals.<br>- Zephyr, still loosely clinging to his foe, allowed himself to be dragged to the <b>edge</b> of the cliff, the opposite column shouting all the while their yells of triumph, when suddenly he untwisted his legs, threw a back somerset, wrenched himself free from Orson's clutches as he did so, and then stood on his feet at the head of his column, while his antagonist, who, with his whole party, had been tugging with might and main to drag their enemies to the brow of the precipice, now suddenly released from the opposing pressure, toppled backwards upon his men, who all fell one upon another, heels over head, down the steep side of the mount, rolling helter-skelter on each other, till they reached the marsh below, some of them even sousing themselves in the creek at the base of the hill, before the impetus of their descent<br>- in 1, $3; cloth, $1.50; gilt <b>edges</b>, $2.50.<br>- The stem, of a brownish colour and three inches long, has circular leaves with lobes, and indented at the <b>edges</b>.<br>- Before the door stood two lofty posts, connected at the top by a beam, from which was suspended an enormous sign, ornamented around its <b>edges</b> with certain curious carvings in pine boards, and on its faces loaded with Masonic emblems.<hr>"
      ],
      "text/plain": [
       "<IPython.core.display.HTML object>"
      ]
     },
     "metadata": {},
     "output_type": "display_data"
    },
    {
     "name": "stdout",
     "output_type": "stream",
     "text": [
      "Cluster that generated the definition\n",
      "6\n"
     ]
    },
    {
     "data": {
      "text/html": [
       "- They made it to the <b>edge</b> of the crowd, but something caused him to turn back.<br>- Mr. Powell ' s keen musician ' s ear weaves sound, dialogue and actual musical fragments into the fabric of narratives that might otherwise seem a bit tweedy and even ragged at the <b>edges</b>.<br>- A look of soft happiness filled it; the thin <b>edges</b> of resolve melted before it. \"<hr>"
      ],
      "text/plain": [
       "<IPython.core.display.HTML object>"
      ]
     },
     "metadata": {},
     "output_type": "display_data"
    },
    {
     "name": "stdout",
     "output_type": "stream",
     "text": [
      "-------------------------------------------------------------------\n"
     ]
    },
    {
     "data": {
      "text/html": [
       "PLANE_NN: <b>A FLAT SURFACE, WITHOUT SLOPE, TILTS, OR INDENTATIONS ; A LEVEL SURFACE.</b>"
      ],
      "text/plain": [
       "<IPython.core.display.HTML object>"
      ]
     },
     "metadata": {},
     "output_type": "display_data"
    },
    {
     "name": "stdout",
     "output_type": "stream",
     "text": [
      "Cluster chosen by annotator:\n",
      "-3\n"
     ]
    },
    {
     "data": {
      "text/html": [
       "- Although I have made use of the Roman ovolo and ogee iu all the orders, I do not generally use them in practice; the bending, or turning inward, of the upper edge of the Grecian, ot quirk ovolo, when the sun shines on its surface, causes a beautiful variety of light and shade, which greatly relieves it from <b>plane</b> surfaces; and if it is entirely in shadow, but receive a reflected<br>- If the sun's rays be parallel to any <b>plane</b>, that plane to which they are parallel, is called a plane of shade.<br>- Again, when we see the broad tail of the fish placed vertically, and that of the whale horizontally, we know that, as it s the chief instrument of progression in both, and exerts its power from side to side of its <b>plane</b>, therefore the first can have but comparatively slender capacity of diving, and is limited to a narrow range of ascent and descent; while the latter has this capacity in excess.<br>- The bone surfaces indicate that movement was predominantly in a single <b>plane</b>, with the massive fingers moving inward toward the middle of the body.<br>- Thus, for example, if a line be parallel to a horizontal plane, its vertical projection will be parallel to the ground-line; and if it is parallel to the vertical <b>plane</b>, its horizontal projection will be parallel to the ground-line.<hr>"
      ],
      "text/plain": [
       "<IPython.core.display.HTML object>"
      ]
     },
     "metadata": {},
     "output_type": "display_data"
    },
    {
     "name": "stdout",
     "output_type": "stream",
     "text": [
      "Cluster that generated the definition\n",
      "1\n"
     ]
    },
    {
     "data": {
      "text/html": [
       "- /z/ All objects situate on the earth are, in perspective, said to be on the same plane, called the ground <b>plane</b>.<br>- The rays of the sun being reflected from the horizon in all directions, the projecture of the prism will prevent a part of the reflected rays from proceeding to the <b>plane</b> behind the prism, and consequently the dane would be something darker than the face of the prism which is parallel to it; but the side of the prism adjoining to the plane will throw a reflection upon the plane, and therefore it would be difficult to perceive the difference between the face of the prism, and the plane parallel behind the prism.<br>- also of many kinds; those called bench planes - %s the jack plane, the trying plane, the long plane, the jointer, and the smoothing <b>plane</b>, are used for bringing the stuff to a plane surface.<br>- The marrowy organisms, with skins that shed water like the backs of ducks, with smooth surfaces neatly padded beneath, and velvet linings to their singing-pipes, are not so common among us as that other pattern of humanity with angular outlines and <b>plane</b> surfaces, and integuments, hair like the fibrous covering of a cocoa-nut in gloss and suppleness as well as color, and voices at once thin and strenuous, - - acidulous enough to produce effervescence with alkalis, and stridulous enough to sing duets with the katydids.<br>- /z/ Given the ichnography and elevation of a base and capital, and the seat of the sun's rays on the ichnographj, and on the elevation; to project the shadows caused by the several parts of itself, and the line of shade upon the baseImagine the object to be sliced, or cut, by as many <b>planes</b>, parallel to the axes of the columns, * and to the sun's rays, as may be tliought convenient for the purpose: then it is plain, if a ray of light enter any of those planes, that every part of the ray will be in that plane, and that the projecting parts upon the edges of * It 18 not abiolutelj necessary to suppose the plane parallel to the axis of the<hr>"
      ],
      "text/plain": [
       "<IPython.core.display.HTML object>"
      ]
     },
     "metadata": {},
     "output_type": "display_data"
    },
    {
     "name": "stdout",
     "output_type": "stream",
     "text": [
      "-------------------------------------------------------------------\n"
     ]
    },
    {
     "data": {
      "text/html": [
       "PLANE_NN: <b>A SURFACE WITHOUT OUTLINE ; A FLAT OR ALMOST FLAT SURFACE.</b>"
      ],
      "text/plain": [
       "<IPython.core.display.HTML object>"
      ]
     },
     "metadata": {},
     "output_type": "display_data"
    },
    {
     "name": "stdout",
     "output_type": "stream",
     "text": [
      "Cluster chosen by annotator:\n",
      "-3\n"
     ]
    },
    {
     "data": {
      "text/html": [
       "- falling on an inclined <b>plane</b>, placed like a roof beneath, and running into casks below.<br>- Substitute for the vacant frame, one with a plate of glass in it, as a perspective <b>plane</b>; you can trace with a pencil on this glass, or measure with compasses, the appearance of the figures beyond.<br>- /z/ When two <b>planes</b> ABC D, A B F E, Fig.<br>- minerals, the magnet points ever to the North; so is there a plant in the prairies, called by travellers the Polar Plant, or Indian Compass, because the <b>plane</b> of its leaf points due North and South, without other variation than the temporary ruffling of the breeze.<br>- In order to ascertain the apparent height, raise a perpendicular from the point I, this is the point at which the line O N, when produced, intersects the ground line; for could the house be moved up to the perspective <b>plane</b>, it would touch it at I F. Measure on this perpendicular, by means of your scale, the actual height of the house (of which it is presumed you have on your plan an exact description) set this off, from I to u, from u rule u S, which intersects the perpendicular d e, at e, this gives the apparent height.<hr>"
      ],
      "text/plain": [
       "<IPython.core.display.HTML object>"
      ]
     },
     "metadata": {},
     "output_type": "display_data"
    },
    {
     "name": "stdout",
     "output_type": "stream",
     "text": [
      "Cluster that generated the definition\n",
      "2\n"
     ]
    },
    {
     "data": {
      "text/html": [
       "- The bone surfaces indicate that movement was predominantly in a single <b>plane</b>, with the massive fingers moving inward toward the middle of the body.<br>- A segment of a cylinder is comprehended under three <b>planes</b>, and the curve surface of the cylinder; two of these are segments of circles: the other plane is a parallelogram, which is here, for distinction's sake, called the plane of the segment, and the circular segments are called the ends of the cylinder.<br>- It follows, that if the point in space be upon the horizontal plane, its distance with regard to this last named <b>plane</b> will be zero or nothing, and the vertical A a will be zero also.<br>- The four sides reaching from the seat to the floor, where the cross pieces are placed, are four upright planes, at right angles with each other: for if the chair were boxed up from the floor to the seat, this box would form the four <b>planes</b> or sides.<br>- But we are most familiar with the exhibitions of gravity in bodies descending inclined <b>planes</b>, as in the avalanche and the cataract.<hr>"
      ],
      "text/plain": [
       "<IPython.core.display.HTML object>"
      ]
     },
     "metadata": {},
     "output_type": "display_data"
    },
    {
     "name": "stdout",
     "output_type": "stream",
     "text": [
      "-------------------------------------------------------------------\n"
     ]
    },
    {
     "data": {
      "text/html": [
       "PLANE_NN: <b>A FLAT SURFACE, USUALLY LEVEL, WITH NO SLOPE, TILT IN IT.</b>"
      ],
      "text/plain": [
       "<IPython.core.display.HTML object>"
      ]
     },
     "metadata": {},
     "output_type": "display_data"
    },
    {
     "name": "stdout",
     "output_type": "stream",
     "text": [
      "Cluster chosen by annotator:\n",
      "2\n"
     ]
    },
    {
     "data": {
      "text/html": [
       "- Although I have made use of the Roman ovolo and ogee iu all the orders, I do not generally use them in practice; the bending, or turning inward, of the upper edge of the Grecian, ot quirk ovolo, when the sun shines on its surface, causes a beautiful variety of light and shade, which greatly relieves it from <b>plane</b> surfaces; and if it is entirely in shadow, but receive a reflected<br>- If the sun's rays be parallel to any <b>plane</b>, that plane to which they are parallel, is called a plane of shade.<br>- Again, when we see the broad tail of the fish placed vertically, and that of the whale horizontally, we know that, as it s the chief instrument of progression in both, and exerts its power from side to side of its <b>plane</b>, therefore the first can have but comparatively slender capacity of diving, and is limited to a narrow range of ascent and descent; while the latter has this capacity in excess.<br>- The bone surfaces indicate that movement was predominantly in a single <b>plane</b>, with the massive fingers moving inward toward the middle of the body.<br>- Thus, for example, if a line be parallel to a horizontal plane, its vertical projection will be parallel to the ground-line; and if it is parallel to the vertical <b>plane</b>, its horizontal projection will be parallel to the ground-line.<hr>"
      ],
      "text/plain": [
       "<IPython.core.display.HTML object>"
      ]
     },
     "metadata": {},
     "output_type": "display_data"
    },
    {
     "name": "stdout",
     "output_type": "stream",
     "text": [
      "Cluster that generated the definition\n",
      "3\n"
     ]
    },
    {
     "data": {
      "text/html": [
       "- Then, armed with facts, the population need only use its untapped brain power to usher in \" a higher <b>plane</b> of civilization \" that would make classical Greece or the Renaissance look like cultural wastelands by comparison. \"<br>- Bond, in masonry, consists in the placing of the stones in such relative positions that no joint in any course shall be in the same <b>plane</b> with any other joint in the course immediately above or below it.<br>- The author believes that it is our privilege and duty, as Christians, to rise into a higher <b>plane</b> of life than is generally hoped for in the present day.<br>- The obvious disqualification of the distribution in question is, that it makes the line of demarcation between subject and object, or between the me and the not-me, to fall within the <b>plane</b> of nature, or between fin'ite and finite, instead of without that plane, or between infinite and finite.<br>- The two <b>planes</b>, upon which we project any line whatever, are called the planes of projection.<hr>"
      ],
      "text/plain": [
       "<IPython.core.display.HTML object>"
      ]
     },
     "metadata": {},
     "output_type": "display_data"
    },
    {
     "name": "stdout",
     "output_type": "stream",
     "text": [
      "-------------------------------------------------------------------\n"
     ]
    },
    {
     "data": {
      "text/html": [
       "PLANE_NN: <b>A FLAT SURFACE.</b>"
      ],
      "text/plain": [
       "<IPython.core.display.HTML object>"
      ]
     },
     "metadata": {},
     "output_type": "display_data"
    },
    {
     "name": "stdout",
     "output_type": "stream",
     "text": [
      "Cluster chosen by annotator:\n",
      "2\n"
     ]
    },
    {
     "data": {
      "text/html": [
       "- Although I have made use of the Roman ovolo and ogee iu all the orders, I do not generally use them in practice; the bending, or turning inward, of the upper edge of the Grecian, ot quirk ovolo, when the sun shines on its surface, causes a beautiful variety of light and shade, which greatly relieves it from <b>plane</b> surfaces; and if it is entirely in shadow, but receive a reflected<br>- If the sun's rays be parallel to any <b>plane</b>, that plane to which they are parallel, is called a plane of shade.<br>- Again, when we see the broad tail of the fish placed vertically, and that of the whale horizontally, we know that, as it s the chief instrument of progression in both, and exerts its power from side to side of its <b>plane</b>, therefore the first can have but comparatively slender capacity of diving, and is limited to a narrow range of ascent and descent; while the latter has this capacity in excess.<br>- The bone surfaces indicate that movement was predominantly in a single <b>plane</b>, with the massive fingers moving inward toward the middle of the body.<br>- Thus, for example, if a line be parallel to a horizontal plane, its vertical projection will be parallel to the ground-line; and if it is parallel to the vertical <b>plane</b>, its horizontal projection will be parallel to the ground-line.<hr>"
      ],
      "text/plain": [
       "<IPython.core.display.HTML object>"
      ]
     },
     "metadata": {},
     "output_type": "display_data"
    },
    {
     "name": "stdout",
     "output_type": "stream",
     "text": [
      "Cluster that generated the definition\n",
      "5\n"
     ]
    },
    {
     "data": {
      "text/html": [
       "- to provide a contrast to the open <b>planes</b> of Christ's nude torso.<br>- If a plane be parallel to the horizontal <b>plane</b>, this plane will not have a horizontal trace, and its vertical trace will be parallel to the ground-line.<br>- We were induced to rise in arms against Austria, (we mean, not the people, but the government of Austria,) not only by the need of redeeming ourselves from the shame and grief of thirty-one years of the most abject despotism, but by a deliberate resolve to take our place upon the <b>plane</b> of nations, to unite with our brothers of the Peninsula, and take rank with them under the great banner raised by Pius IX.<br>- On the contrary, she was advanced to a still higher <b>plane</b>, where his dreams of possession did not venture to intrude.<br>- There are other kinds of planes besides the above; as the plough, for sinking a groove to receive a projecting tongue; the bead <b>plane</b>, for sticking beads; the snipe bill, for forming quirks; the compass plane and the forkstaff plane,<hr>"
      ],
      "text/plain": [
       "<IPython.core.display.HTML object>"
      ]
     },
     "metadata": {},
     "output_type": "display_data"
    },
    {
     "name": "stdout",
     "output_type": "stream",
     "text": [
      "-------------------------------------------------------------------\n"
     ]
    },
    {
     "data": {
      "text/html": [
       "PLANE_NN: <b>A PLAIN, FLAT, UNDIVIDED WOODEN GRAIN.</b>"
      ],
      "text/plain": [
       "<IPython.core.display.HTML object>"
      ]
     },
     "metadata": {},
     "output_type": "display_data"
    },
    {
     "name": "stdout",
     "output_type": "stream",
     "text": [
      "Cluster chosen by annotator:\n",
      "-2\n"
     ]
    },
    {
     "data": {
      "text/html": [
       "- Although I have made use of the Roman ovolo and ogee iu all the orders, I do not generally use them in practice; the bending, or turning inward, of the upper edge of the Grecian, ot quirk ovolo, when the sun shines on its surface, causes a beautiful variety of light and shade, which greatly relieves it from <b>plane</b> surfaces; and if it is entirely in shadow, but receive a reflected<br>- If the sun's rays be parallel to any <b>plane</b>, that plane to which they are parallel, is called a plane of shade.<br>- Again, when we see the broad tail of the fish placed vertically, and that of the whale horizontally, we know that, as it s the chief instrument of progression in both, and exerts its power from side to side of its <b>plane</b>, therefore the first can have but comparatively slender capacity of diving, and is limited to a narrow range of ascent and descent; while the latter has this capacity in excess.<br>- The bone surfaces indicate that movement was predominantly in a single <b>plane</b>, with the massive fingers moving inward toward the middle of the body.<br>- Thus, for example, if a line be parallel to a horizontal plane, its vertical projection will be parallel to the ground-line; and if it is parallel to the vertical <b>plane</b>, its horizontal projection will be parallel to the ground-line.<hr>"
      ],
      "text/plain": [
       "<IPython.core.display.HTML object>"
      ]
     },
     "metadata": {},
     "output_type": "display_data"
    },
    {
     "name": "stdout",
     "output_type": "stream",
     "text": [
      "Cluster that generated the definition\n",
      "6\n"
     ]
    },
    {
     "data": {
      "text/html": [
       "- The old slave, being questioned, fell on his knees and confessed that he had left the babe under a <b>plane</b> tree, on Mount Ida, and that he had afterward seen him in the hut of Mygdomus.<br>- The <b>Plane</b> or Buttonwood tree, so common in our streets and environs, has hitherto<br>- Oak, old English, young tree, 363 \" old ship timber, \" from old tree, \" medium qualities, \" green, Beech, medium quality, Alder, <b>Plane</b> tree.<br>- There is but a trifling difference in general effect between /z/ our <b>plane</b> or buttonwood and the Oriental plane.<hr>"
      ],
      "text/plain": [
       "<IPython.core.display.HTML object>"
      ]
     },
     "metadata": {},
     "output_type": "display_data"
    },
    {
     "name": "stdout",
     "output_type": "stream",
     "text": [
      "-------------------------------------------------------------------\n"
     ]
    },
    {
     "data": {
      "text/html": [
       "TIP_VB: <b>TO COVER THE TOP OR END OF.</b>"
      ],
      "text/plain": [
       "<IPython.core.display.HTML object>"
      ]
     },
     "metadata": {},
     "output_type": "display_data"
    },
    {
     "name": "stdout",
     "output_type": "stream",
     "text": [
      "Cluster chosen by annotator:\n",
      "-2\n"
     ]
    },
    {
     "data": {
      "text/html": [
       "- Once I came home from driving the hack and Enid was <b>tipping</b> a bottle of liquor straight up. \"<br>- Well, the Jacksonites took the dose in one hand, and grab'd the Huntonites with the other, and <b>tipped</b> their heads back, and were jest agoing to pour it down their throats, when the Huntonites fetched a spring and kicked it away to the fourth day of April.<br>- How I used to <b>tip</b> back my head and stare.<br>- As the plank <b>tipped</b>, the body slid off slowly, and fell with a splash into the sea.<br>- He had his visor <b>tipped</b> back and she could see the hard cold sheen in his pale blue eyes, glinting like dangerous ice in the spring.<hr>"
      ],
      "text/plain": [
       "<IPython.core.display.HTML object>"
      ]
     },
     "metadata": {},
     "output_type": "display_data"
    },
    {
     "name": "stdout",
     "output_type": "stream",
     "text": [
      "Cluster that generated the definition\n",
      "1\n"
     ]
    },
    {
     "data": {
      "text/html": [
       "- you know, is not a stoic (Though here one ought to be), begs your permission, In a few lines, and somewhat less heroic Than are these first, to send you his petition; -- Which humbly showeth; -- Here are four As hearty men as walked the planet, Who're running up a frightful score, (' T is now five days since we began it,) For baked, stewed, roasted, with McAlif; Footnote: 1Kb And, as we're earning nothing here, But eating beef and drinking beer, -- We speak not now of eau de vie, And rum, and lemon ratafia, Footnote: 1Kb -- We really begin to fear That we shall all be after meeting, On our way homeward, a \" bum-bailiff, \" With his <b>tipped</b> staff, and civil \" greeting. \"<br>- coffee-bean, - When lawyers take what they would give, And doctors give what they would take, - When city fathers eat to live, Save when they fast for conscience ' sake, - When one that hath a horse on sale Shall bring his merit to the proof, Without a lie for every nail That holds the iron on the hoof, - When in the usual place for rips Our gloves are stitched with special care, And guarded well the whalebone <b>tips</b> Where first umbrellas need repair, - When Cuba's weeds have quite forgot The power of suction to resist, And claret-bottles harber not Such dimples as would hold your fist, - When publishers no longer steal, And pay for what they stole before, - When the first locomotive's wheel Rolls through the Hoosac tunnel's bore; - TILL then let Cumming a blaze away, And Miller's saints blow up the globe; But when you see that blessed day, THEN order your ascension robe!<br>- Among the \" unrecognized dead \" by the late RAILROAD ACCIDENT, was a female child, about three years of age; fair complexion and hair; had on a red dress, green sack, white apron, linen gaiters, <b>tipped</b> with patent leather, and white woolen stockings.<br>- Thus -- thus the ravisher went forth; Like meteors o'er the cloudy north: Thus -- thus the desperate boy went down, In splendour o'er the mountain's brown: His vestment streaming far behind, And glittering in the rushing wind: His dancing plumage <b>tipped</b> with light, Like eaglets in their loftiest flight -- As now he darted on the sight, And met the sun's last rays: -- Now hidden in the forest shade -- Emerging now -- and now betrayed By plumes that in the sunset played; And robe that seemed to blaze!<br>- She treasured up all the old traditions, and though she repeated them truly, they came from her mouth in brighter pictures than from others, because she <b>tipped</b> all the edges with her own golden fancy.<hr>"
      ],
      "text/plain": [
       "<IPython.core.display.HTML object>"
      ]
     },
     "metadata": {},
     "output_type": "display_data"
    },
    {
     "name": "stdout",
     "output_type": "stream",
     "text": [
      "-------------------------------------------------------------------\n"
     ]
    },
    {
     "data": {
      "text/html": [
       "TIP_VB: <b>TO POINT OR CAUSE TO POINT TOWARD SOMETHING</b>"
      ],
      "text/plain": [
       "<IPython.core.display.HTML object>"
      ]
     },
     "metadata": {},
     "output_type": "display_data"
    },
    {
     "name": "stdout",
     "output_type": "stream",
     "text": [
      "Cluster chosen by annotator:\n",
      "-2\n"
     ]
    },
    {
     "data": {
      "text/html": [
       "- Once I came home from driving the hack and Enid was <b>tipping</b> a bottle of liquor straight up. \"<br>- Well, the Jacksonites took the dose in one hand, and grab'd the Huntonites with the other, and <b>tipped</b> their heads back, and were jest agoing to pour it down their throats, when the Huntonites fetched a spring and kicked it away to the fourth day of April.<br>- How I used to <b>tip</b> back my head and stare.<br>- As the plank <b>tipped</b>, the body slid off slowly, and fell with a splash into the sea.<br>- He had his visor <b>tipped</b> back and she could see the hard cold sheen in his pale blue eyes, glinting like dangerous ice in the spring.<hr>"
      ],
      "text/plain": [
       "<IPython.core.display.HTML object>"
      ]
     },
     "metadata": {},
     "output_type": "display_data"
    },
    {
     "name": "stdout",
     "output_type": "stream",
     "text": [
      "Cluster that generated the definition\n",
      "3\n"
     ]
    },
    {
     "data": {
      "text/html": [
       "- Pre-production problems <b>tipped</b> the committee toward the choice of sticking with Panama.<br>- It was pleasant, in the summer forenoons, -- when the fervent heat, that almost liquefied the rest of the human family, merely communicated a genial warmth to their half-torpid systems, -- it was pleasant to hear them chatting in the back entry, a row of them all <b>tipped</b> against the wall, as usual; while the frozen witticisms of past generations were thawed out, and came bubbling with laughter from their lips.<br>- The existing crop of restaurants <b>tipped</b> heavily toward white or black; they were not truly integrated. \"<br>- He boldly <b>tips</b> the wink to the bar-maid, at such genteel places as the Madison House -- sips, and pulls up his shirt collars with a jaunty air, and sometimes will sit down to a quiet rubber of whist, in the back parlor.<br>- He stared at her for a long time, hoping that something in her eyes would <b>tip</b> him in either direction. \"<hr>"
      ],
      "text/plain": [
       "<IPython.core.display.HTML object>"
      ]
     },
     "metadata": {},
     "output_type": "display_data"
    },
    {
     "name": "stdout",
     "output_type": "stream",
     "text": [
      "-------------------------------------------------------------------\n"
     ]
    },
    {
     "data": {
      "text/html": [
       "BAR_NN: <b>A COURT OF LAW.</b>"
      ],
      "text/plain": [
       "<IPython.core.display.HTML object>"
      ]
     },
     "metadata": {},
     "output_type": "display_data"
    },
    {
     "name": "stdout",
     "output_type": "stream",
     "text": [
      "Cluster chosen by annotator:\n",
      "-3\n"
     ]
    },
    {
     "data": {
      "text/html": [
       "- Edited by THOMAS SERGEANT and JOHN C. LOWBER, Esqrs, of the Philadelphia <b>Bar</b>.<br>- Her voluminous discourse involved her opinions of her neighbors, friends, and relatives; and, one day, a few weeks after, I was suddenly surprised by a visit from a gentleman -- one of the members of the <b>bar</b> -- who placed a letter in my hands from Mr. Perkins.<br>- // swollen salary or rich perquisites had nourished-too late in life to return to the <b>bar</b>, too early to retire to private life, even if able to do it; but destined to languish out ten or fifteen years in poverty and ennui, which might have been the most useful, respectable, and satisfactory portion of their lives!<br>- I was tipped off two days ago that I passed the <b>bar</b>.<br>- It is difficult to draw a just parallel between the American and English <b>bars</b>, for two reasons; first, because in the former, the various departments of legal business are united in the same individual; and, secondly, because their period of preparatory study is much shorter, and their means and system of education greatly inferior; if proper allowance be made for these disadvantages<hr>"
      ],
      "text/plain": [
       "<IPython.core.display.HTML object>"
      ]
     },
     "metadata": {},
     "output_type": "display_data"
    },
    {
     "name": "stdout",
     "output_type": "stream",
     "text": [
      "Cluster that generated the definition\n",
      "1\n"
     ]
    },
    {
     "data": {
      "text/html": [
       "- ly assisted by gentlemen of the <b>bar</b>, so called, (great numbers of xvhorn are always at hand, ready for such undertaking) when after a few years constant attendance upon courts, and the lay. \"<br>- The list shall be published annually in the ABA Approved Law Schools: Statistical Information on American <b>Bar</b> Association Approved Law Schools, Review of Legal education, a publication which is published by the Section and single copies of which are distributed by the Consultant upon request, without charge.<br>- And until today, the <b>bar</b> association had not suggested which option<br>- , the United States, through the efforts of the Britisb press, have been placed as criminals before the <b>bar</b> of ' the Christian world, and almost ostracized from all community with civilized nations.<br>- My impression is, that in point of skill and professional ability the Minnesota <b>bar</b> is a little above the average of territorial bars.<hr>"
      ],
      "text/plain": [
       "<IPython.core.display.HTML object>"
      ]
     },
     "metadata": {},
     "output_type": "display_data"
    },
    {
     "name": "stdout",
     "output_type": "stream",
     "text": [
      "-------------------------------------------------------------------\n"
     ]
    },
    {
     "data": {
      "text/html": [
       "BAR_NN: <b>THE STANDING OF A BARRISTER, LAWYER, OR OTHER PROFESSIONAL PERSON.</b>"
      ],
      "text/plain": [
       "<IPython.core.display.HTML object>"
      ]
     },
     "metadata": {},
     "output_type": "display_data"
    },
    {
     "name": "stdout",
     "output_type": "stream",
     "text": [
      "Cluster chosen by annotator:\n",
      "-3\n"
     ]
    },
    {
     "data": {
      "text/html": [
       "- Edited by THOMAS SERGEANT and JOHN C. LOWBER, Esqrs, of the Philadelphia <b>Bar</b>.<br>- Her voluminous discourse involved her opinions of her neighbors, friends, and relatives; and, one day, a few weeks after, I was suddenly surprised by a visit from a gentleman -- one of the members of the <b>bar</b> -- who placed a letter in my hands from Mr. Perkins.<br>- // swollen salary or rich perquisites had nourished-too late in life to return to the <b>bar</b>, too early to retire to private life, even if able to do it; but destined to languish out ten or fifteen years in poverty and ennui, which might have been the most useful, respectable, and satisfactory portion of their lives!<br>- I was tipped off two days ago that I passed the <b>bar</b>.<br>- It is difficult to draw a just parallel between the American and English <b>bars</b>, for two reasons; first, because in the former, the various departments of legal business are united in the same individual; and, secondly, because their period of preparatory study is much shorter, and their means and system of education greatly inferior; if proper allowance be made for these disadvantages<hr>"
      ],
      "text/plain": [
       "<IPython.core.display.HTML object>"
      ]
     },
     "metadata": {},
     "output_type": "display_data"
    },
    {
     "name": "stdout",
     "output_type": "stream",
     "text": [
      "Cluster that generated the definition\n",
      "3\n"
     ]
    },
    {
     "data": {
      "text/html": [
       "- For a long time, Mr. Wirt's chief opponent at the Baltimore <b>bar</b>, was Mr. Taney, the present Chief Justice of the United States.<br>- Du Quesne, with whom we must at present continue, repaired to New-York, where, upon his being admitted to the <b>bar</b>, as in due time he was, his mysterious supply of money was withheld, and he was left without relatives or connexions, to make the usual slow and uncertain progress in the business of his profession.<br>- The Rising Sun was lost on the <b>bar</b> of Charlestown; and of the colony, not more than thirty<br>- Copley went to law with him; and his son, (now Lord Lyndhurst,) who was just admitted to the <b>bar</b>, gained his father's cause.<br>- Was it not calculated to have a salutary effeel, both upon the <b>bar</b> and the bystanders, to show, that, throughout the world, wherever civilization has dawned, there was but one feeling and one voice with regard to an offence of this sort, and that a voice of unmingled reprobation?<hr>"
      ],
      "text/plain": [
       "<IPython.core.display.HTML object>"
      ]
     },
     "metadata": {},
     "output_type": "display_data"
    },
    {
     "name": "stdout",
     "output_type": "stream",
     "text": [
      "-------------------------------------------------------------------\n"
     ]
    },
    {
     "data": {
      "text/html": [
       "BAR_NN: <b>A CLASS OF LAWYERS.</b>"
      ],
      "text/plain": [
       "<IPython.core.display.HTML object>"
      ]
     },
     "metadata": {},
     "output_type": "display_data"
    },
    {
     "name": "stdout",
     "output_type": "stream",
     "text": [
      "Cluster chosen by annotator:\n",
      "-3\n"
     ]
    },
    {
     "data": {
      "text/html": [
       "- And until today, the <b>bar</b> association had not suggested which option<br>- United States District Court for the District of Columbia entered the Consent Decree proposed by the American <b>Bar</b> Association and the U.S. Department of Justice as the Final Judgment in the litigation between those parties.<br>- ly assisted by gentlemen of the <b>bar</b>, so called, (great numbers of xvhorn are always at hand, ready for such undertaking) when after a few years constant attendance upon courts, and the lay. \"<br>- My impression is, that in point of skill and professional ability the Minnesota <b>bar</b> is a little above the average of territorial bars.<br>- Before the awful <b>bar</b>, th ' almighty throne, In dread I've stood th ' Eternal Judge to see; And fix'd in bliss, or doom'd to ceaseless moan, Have heard the long, the unreversed decree: \" Nor earth must know the rest. \"<hr>"
      ],
      "text/plain": [
       "<IPython.core.display.HTML object>"
      ]
     },
     "metadata": {},
     "output_type": "display_data"
    },
    {
     "name": "stdout",
     "output_type": "stream",
     "text": [
      "Cluster that generated the definition\n",
      "6\n"
     ]
    },
    {
     "data": {
      "text/html": [
       "- // swollen salary or rich perquisites had nourished-too late in life to return to the <b>bar</b>, too early to retire to private life, even if able to do it; but destined to languish out ten or fifteen years in poverty and ennui, which might have been the most useful, respectable, and satisfactory portion of their lives!<br>- I was tipped off two days ago that I passed the <b>bar</b>.<br>- It is difficult to draw a just parallel between the American and English <b>bars</b>, for two reasons; first, because in the former, the various departments of legal business are united in the same individual; and, secondly, because their period of preparatory study is much shorter, and their means and system of education greatly inferior; if proper allowance be made for these disadvantages<br>- The Commons, who are the people, when ordered to the <b>bar</b> of the Lords, humbly present themselves bareheaded before the peers, who remain covered.<br>- Her voluminous discourse involved her opinions of her neighbors, friends, and relatives; and, one day, a few weeks after, I was suddenly surprised by a visit from a gentleman -- one of the members of the <b>bar</b> -- who placed a letter in my hands from Mr. Perkins.<hr>"
      ],
      "text/plain": [
       "<IPython.core.display.HTML object>"
      ]
     },
     "metadata": {},
     "output_type": "display_data"
    },
    {
     "name": "stdout",
     "output_type": "stream",
     "text": [
      "-------------------------------------------------------------------\n"
     ]
    },
    {
     "data": {
      "text/html": [
       "PIN_VB: <b>TO FASTEN WITH A PINS OR PINS.</b>"
      ],
      "text/plain": [
       "<IPython.core.display.HTML object>"
      ]
     },
     "metadata": {},
     "output_type": "display_data"
    },
    {
     "name": "stdout",
     "output_type": "stream",
     "text": [
      "Cluster chosen by annotator:\n",
      "-2\n"
     ]
    },
    {
     "data": {
      "text/html": [
       "- But the man himself was impossible to <b>pin</b> down.<br>- When Penny, <b>pinned</b> off balance, repeats \" Please, \" the honest fear in her voice gives him an excuse to relent.<br>- With that he came in (' t was a little dark, with the shawl <b>pinned</b> at the windy): -- Don't go too near her face, for fear her breath's infractious, ' sis I. I didn't bring a light, sir, ' sis I.<br>- Next was a sacking of clapboards <b>pinned</b> down; and then a very thick straw bed, and over that a sumptuous feather bed; the whole very comfortable for the good old folks, especially as Uncle Tommy used to say of themselves, that they were \" old and tough. \"<br>- Anyway, this office works directly for the Director of Central Intelligence, which has advantages, because we don't have a lot of bureaucratic hoops to jump through, and a big disadvantage, since there's nobody else to <b>pin</b> the screwups on, so it's a bit of a high-wire act.<hr>"
      ],
      "text/plain": [
       "<IPython.core.display.HTML object>"
      ]
     },
     "metadata": {},
     "output_type": "display_data"
    },
    {
     "name": "stdout",
     "output_type": "stream",
     "text": [
      "Cluster that generated the definition\n",
      "0\n"
     ]
    },
    {
     "data": {
      "text/html": [
       "- \" Why, I never heard of it before, \" said Miss Jerusha, <b>pinning</b> a little blue bow on the top of the muslin cap, to make it look tasty, as she observed. \"<br>- Unable longer to foil an enemy so alert and vigilant, he threw his arms about him, and succeeded in <b>pinning</b> the limbs of the other to his side, with an iron grasp, but one that was far too exhausting to himself to continue long.<br>- Thousands more had been <b>pinned</b> down in no-man's-lands between enemy lines, covered by body parts and the dying who cried out for water or their mothers.<br>- Now, in the late summer of 1829, the Macnabs with their dog Betsy and their thirty cows were <b>pinned</b> down<br>- The team could count itself lucky if the crowd exceeded 5,000, even on the days the hated Yankees came to town, led by the Yankee Clipper -- the name Arch McDonald <b>pinned</b> on Joe DiMaggio.<hr>"
      ],
      "text/plain": [
       "<IPython.core.display.HTML object>"
      ]
     },
     "metadata": {},
     "output_type": "display_data"
    },
    {
     "name": "stdout",
     "output_type": "stream",
     "text": [
      "-------------------------------------------------------------------\n"
     ]
    },
    {
     "data": {
      "text/html": [
       "PIN_VB: <b>TO ATTACH OR TIE CLOSELY TO</b>"
      ],
      "text/plain": [
       "<IPython.core.display.HTML object>"
      ]
     },
     "metadata": {},
     "output_type": "display_data"
    },
    {
     "name": "stdout",
     "output_type": "stream",
     "text": [
      "Cluster chosen by annotator:\n",
      "-2\n"
     ]
    },
    {
     "data": {
      "text/html": [
       "- But the man himself was impossible to <b>pin</b> down.<br>- When Penny, <b>pinned</b> off balance, repeats \" Please, \" the honest fear in her voice gives him an excuse to relent.<br>- With that he came in (' t was a little dark, with the shawl <b>pinned</b> at the windy): -- Don't go too near her face, for fear her breath's infractious, ' sis I. I didn't bring a light, sir, ' sis I.<br>- Next was a sacking of clapboards <b>pinned</b> down; and then a very thick straw bed, and over that a sumptuous feather bed; the whole very comfortable for the good old folks, especially as Uncle Tommy used to say of themselves, that they were \" old and tough. \"<br>- Anyway, this office works directly for the Director of Central Intelligence, which has advantages, because we don't have a lot of bureaucratic hoops to jump through, and a big disadvantage, since there's nobody else to <b>pin</b> the screwups on, so it's a bit of a high-wire act.<hr>"
      ],
      "text/plain": [
       "<IPython.core.display.HTML object>"
      ]
     },
     "metadata": {},
     "output_type": "display_data"
    },
    {
     "name": "stdout",
     "output_type": "stream",
     "text": [
      "Cluster that generated the definition\n",
      "1\n"
     ]
    },
    {
     "data": {
      "text/html": [
       "- must make the best selections; they therefore forego the trouble of forming an opinion of their own, and <b>pin</b> their faith upon the decisions -- or rather the practice, of the amateurs.<br>- He couldn't <b>pin</b> down a definite number, but he knew it was going to be a<br>- For reasons he couldn't altogether <b>pin</b> down, he still disliked Quantrill and always would.<br>- Some are so much afraid of <b>pinning</b> their faith upon authority, and taking opinions upon trust, that they dare not rely on the word of God himself, nor yield belief to evidence which is perfectly conclusive.<br>- I say I <b>pin</b> my faith to Jem Howard -- and trust, and c'nfid'nce, and all that sort ' thing.<hr>"
      ],
      "text/plain": [
       "<IPython.core.display.HTML object>"
      ]
     },
     "metadata": {},
     "output_type": "display_data"
    },
    {
     "name": "stdout",
     "output_type": "stream",
     "text": [
      "-------------------------------------------------------------------\n"
     ]
    },
    {
     "data": {
      "text/html": [
       "RAG_NN: <b>ANYTHING ROUGH OR FILTHY ; A COVERING OF SUCH THINGS.</b>"
      ],
      "text/plain": [
       "<IPython.core.display.HTML object>"
      ]
     },
     "metadata": {},
     "output_type": "display_data"
    },
    {
     "name": "stdout",
     "output_type": "stream",
     "text": [
      "Cluster chosen by annotator:\n",
      "-3\n"
     ]
    },
    {
     "data": {
      "text/html": [
       "- He holstered the knife and then grabbed the driver's twitching body with both fists, yanked it from the truck and threw it like a <b>rag</b> doll to the side of the road.<br>- He wears <b>rags</b> sewn with tiny bells, each of which tinkles a note that in his mind symbolizes the special vice of each place he has visited.<br>- Grubeshov now slowly drew forth a long, stained <b>rag</b>. \"<br>- There is a higher pleasure in his view in preachiiig to the savages, than in sharing the luxuries of refined society; and in preferring the former he acts upon the same principle of self-love, as the chimney sweeper would in giving up his sooty <b>rags</b> for the purple linen of a prince.<br>- This ornament is considered indispensable, and those who can not afford it, supply its place with a bit of red <b>rag</b>, which equally well answers the intended purpose of pointing them out as disciples of Buddha.<hr>"
      ],
      "text/plain": [
       "<IPython.core.display.HTML object>"
      ]
     },
     "metadata": {},
     "output_type": "display_data"
    },
    {
     "name": "stdout",
     "output_type": "stream",
     "text": [
      "Cluster that generated the definition\n",
      "1\n"
     ]
    },
    {
     "data": {
      "text/html": [
       "- You dirthy owld bit of a blackguard of a <b>rag</b>, ' says I, in an exthremity of rage, ' You're not fit for the back of a dacent lad an ' a jintleman.<br>- its ruthless keepers have refused them bread, shut them into the street, and left them in <b>rags</b> scarce sufficient to cover their nakedness, to sleep upon the cold stones, a mute but terrible rebuke to those hearts that bleed over the sorrows of Africa, but have no blood to give out when the object of pity is a poor, heart-sick girl, forced to make the cold pavement her bed.<br>- The other memory is of a vacant lot in the cold, yellow light of late afternoon and a drunken woman in filthy <b>rags</b> beating a man over the head with an umbrella until he fell, then standing over him, kicking and striking him again and again.<br>- next yard with scarcely a <b>rag</b> to their backs.<br>- Whole families of men, women, and children, half naked, barefoot, in <b>rags</b>, shivering in the cold, lean and gaunt from hunger, without a hut to shelter them from the storm, or a pillow of straw whereon to lay their heads.<hr>"
      ],
      "text/plain": [
       "<IPython.core.display.HTML object>"
      ]
     },
     "metadata": {},
     "output_type": "display_data"
    },
    {
     "name": "stdout",
     "output_type": "stream",
     "text": [
      "-------------------------------------------------------------------\n"
     ]
    },
    {
     "data": {
      "text/html": [
       "PICK_VB: <b>TO SELECT SOMETHING FROM A LIST OR GROUP</b>"
      ],
      "text/plain": [
       "<IPython.core.display.HTML object>"
      ]
     },
     "metadata": {},
     "output_type": "display_data"
    },
    {
     "name": "stdout",
     "output_type": "stream",
     "text": [
      "Cluster chosen by annotator:\n",
      "-3\n"
     ]
    },
    {
     "data": {
      "text/html": [
       "- Mr. A. C. Hobbs, of the lock-making concern of Day &; Newell, has improved his leisure here in <b>picking</b> a six-tumbler Bank Lock of Mr. Chubb, the great English locksmith, and he now gives notice that he can pick any of Chubb's locks, or any other based on similar principles<br>- I <b>picked</b> out his face from the crowd of warriors around the king. \"<br>- Arista smiles, as from afar he surveys the effect of his fire: for every discharge flings a shower of blood into the faces of living men, and from the solid ranks, <b>picks</b> out brave forms and crushes them into the grave, dug by the cannon ball<hr>"
      ],
      "text/plain": [
       "<IPython.core.display.HTML object>"
      ]
     },
     "metadata": {},
     "output_type": "display_data"
    },
    {
     "name": "stdout",
     "output_type": "stream",
     "text": [
      "Cluster that generated the definition\n",
      "2\n"
     ]
    },
    {
     "data": {
      "text/html": [
       "- His small head, his transparent, pink nostrils, his slender fetlocks as neat as a lady's ankle, his dainty footfall, as his deerlike hoofs <b>picked</b> out the smoothest way for his mistress, were all characteristics of the Arabian race, from which it claimed lineage.<br>- Did we not <b>pick</b> the easiest way back for just that reason?<br>- When I was 10 or 12, they told me that when I graduate from high school, I had to <b>pick</b> a free country and leave home, \" she said. \"<br>- Now, boys, \" cried Black George, in a stentorian voice, \" every man <b>pick</b> a nigger, and give the -- skunks h --! \"<br>- Lamato That were nothing, we buy disguises for ourselves when we have reached the place, that no eye howe'er so well knowing our forms, could <b>pick</b> a mark or point, whereby they might ken us; then will it be shorter to fetch Elvira, when we have stowed what we shall take and bring her safely from the haunt; how like you it?<hr>"
      ],
      "text/plain": [
       "<IPython.core.display.HTML object>"
      ]
     },
     "metadata": {},
     "output_type": "display_data"
    },
    {
     "name": "stdout",
     "output_type": "stream",
     "text": [
      "-------------------------------------------------------------------\n"
     ]
    },
    {
     "data": {
      "text/html": [
       "PICK_VB: <b>TO GATHER OR SELECT SOMETHING FROM A LARGER COLLECTION.</b>"
      ],
      "text/plain": [
       "<IPython.core.display.HTML object>"
      ]
     },
     "metadata": {},
     "output_type": "display_data"
    },
    {
     "name": "stdout",
     "output_type": "stream",
     "text": [
      "Cluster chosen by annotator:\n",
      "5\n"
     ]
    },
    {
     "data": {
      "text/html": [
       "- Mr. A. C. Hobbs, of the lock-making concern of Day &; Newell, has improved his leisure here in <b>picking</b> a six-tumbler Bank Lock of Mr. Chubb, the great English locksmith, and he now gives notice that he can pick any of Chubb's locks, or any other based on similar principles<br>- I <b>picked</b> out his face from the crowd of warriors around the king. \"<br>- Arista smiles, as from afar he surveys the effect of his fire: for every discharge flings a shower of blood into the faces of living men, and from the solid ranks, <b>picks</b> out brave forms and crushes them into the grave, dug by the cannon ball<hr>"
      ],
      "text/plain": [
       "<IPython.core.display.HTML object>"
      ]
     },
     "metadata": {},
     "output_type": "display_data"
    },
    {
     "name": "stdout",
     "output_type": "stream",
     "text": [
      "Cluster that generated the definition\n",
      "4\n"
     ]
    },
    {
     "data": {
      "text/html": [
       "- The science of government, and even history, which forms its natural complement, are nearly overlooked in the usual routine of collegiate and professional studies; and most of our statesmen e * iter the halls of Congress and of the state legislatures, unprovided with any other notions on the great subjects of politics, ethics, political economy, and history, ancient and modern, excepting such as they have <b>picked</b> up by chance in their leisure reading.<br>- All those tells of millions of people, they didn't just happen to <b>pick</b> on Yankees.<br>- Keith \" -- she gestured toward the kitchen, where ice was being <b>picked</b> -- \" Keith was in Nevada on the same errand.<br>- The knowledge will spread on to the other plantations; bright niggers will <b>pick</b> it up; for the very fellows who are most dangerous are the very ones<br>- Arthur Blague is a sensible young man, and he has feelings; and because he thinks he's called upon to help a poor outeast girl, that hasn't any friends, and is a suspicious character, and wants to take her away from temptations, and give her a chance to get along in the world, it isn't for us who's more favored, to <b>pick</b> flaws with him, or to say, Why do ye do so? \"<hr>"
      ],
      "text/plain": [
       "<IPython.core.display.HTML object>"
      ]
     },
     "metadata": {},
     "output_type": "display_data"
    },
    {
     "name": "stdout",
     "output_type": "stream",
     "text": [
      "-------------------------------------------------------------------\n"
     ]
    },
    {
     "data": {
      "text/html": [
       "GAS_NN: <b>ANY FLUID SUBSTANCE, ESPECIALLY A NATURAL FLUID, WHICH IS A MIXTURE OF AIR AND NITROGEN, USUALLY CREATED BY THE COMBUSTION OF NATURAL GASSES.</b>"
      ],
      "text/plain": [
       "<IPython.core.display.HTML object>"
      ]
     },
     "metadata": {},
     "output_type": "display_data"
    },
    {
     "name": "stdout",
     "output_type": "stream",
     "text": [
      "Cluster chosen by annotator:\n",
      "-2\n"
     ]
    },
    {
     "data": {
      "text/html": [
       "- He watched her thigh move as she pressed on the <b>gas</b> pedal.<br>- \" Baby -- \" \" Put your foot on the fuckin <b>gas</b>, Miles, \" said Harmony, and rolled up the window.<br>- Just snow and - she lifted her foot off the <b>gas</b> momentarily when she spotted them - tracks.<br>- The 400h handled well, accelerated quickly and quietly engaged its <b>gas</b> engine.<hr>"
      ],
      "text/plain": [
       "<IPython.core.display.HTML object>"
      ]
     },
     "metadata": {},
     "output_type": "display_data"
    },
    {
     "name": "stdout",
     "output_type": "stream",
     "text": [
      "Cluster that generated the definition\n",
      "0\n"
     ]
    },
    {
     "data": {
      "text/html": [
       "- In order to really know what the composition of the <b>gas</b> is, samples have to be collected from high-temperature vents, which are in the crater. \"<br>- According to the theory of the Professors Rogers, the wavelike fiexures, above alluded to, are explained by supposing the strata, when in a plastic state, to have rested on a widely-extended surface of fluid lava, and elastic vapors and <b>gases</b>.<br>- They told him the superintendent had come home from Minersville to find the house filled with escaping <b>gas</b> and<br>- If we force a fluid or a <b>gas</b> to become suddenly solid, leaving no time for its particles to arrange themselves, and cohere in that direction in which the cohesive attraction is strongest, no crystals will be formed, but the resulting solid will have a different colour, a different degree of hardness and cohesion, and will refract light differently; in one word, will be amorphous.<br>- Il can only red by rope ladders; and it is supposed, though I think without sutlicient reason, to be charged with mephitic <b>gases</b>, fatal ta life.<hr>"
      ],
      "text/plain": [
       "<IPython.core.display.HTML object>"
      ]
     },
     "metadata": {},
     "output_type": "display_data"
    },
    {
     "name": "stdout",
     "output_type": "stream",
     "text": [
      "-------------------------------------------------------------------\n"
     ]
    },
    {
     "data": {
      "text/html": [
       "PART_NN: <b>A PORTION OF SOMETHING.</b>"
      ],
      "text/plain": [
       "<IPython.core.display.HTML object>"
      ]
     },
     "metadata": {},
     "output_type": "display_data"
    },
    {
     "name": "stdout",
     "output_type": "stream",
     "text": [
      "Cluster chosen by annotator:\n",
      "-3\n"
     ]
    },
    {
     "data": {
      "text/html": [
       "- For his <b>part</b> n a London demonstration in 961 he went unrepentantly to ail.<br>- For her <b>part</b>, Rhiannon comes back to find two old flames still stirred by the remnants of her youthful beauty.<br>- his brother's <b>part</b>, and some that of Ferrers, while, in the dark, friend struggled and quarrelled with friend as much as foe, no one attempting to quell the tumult, until the door was suddenly burst open, and Hamilton with Trevannion and two or three from the school-room entered.<br>- It was forced upon Austria by the formidable proportions of the anti-Russian alliance, which threatened to sever from her at one stroke her Italian provinces if she took <b>part</b> with the enemy; but it will be observed, that while leaning to the side of the Alliance, she has steadily endeavored to present a minimum of opposition to Russia.<br>- to a younger generation of educators, that will be the time for the state to do its <b>part</b> by rewarding those who stood at the door of the schoolhouses statewide welcoming each and every child each day.<hr>"
      ],
      "text/plain": [
       "<IPython.core.display.HTML object>"
      ]
     },
     "metadata": {},
     "output_type": "display_data"
    },
    {
     "name": "stdout",
     "output_type": "stream",
     "text": [
      "Cluster that generated the definition\n",
      "0\n"
     ]
    },
    {
     "data": {
      "text/html": [
       "- On top of that, Mom hated any kind of talk about which <b>parts</b> of black people's bodies were good or bad, especially hair and skin.<br>- Before then, after tobacco had become <b>part</b> of everyday custom in every part of the Western world, pipe tongs graced many a fashionable hearth and were considered utensils; but because they held a prominent position in the sitting room, they were usually finely made and nicely decorated, giving them a position midway between utensils and decorative ironwork.<br>- Yelling at me isn't usually <b>part</b> of it. \"<br>- the view of ascertaining bow far these data, respecting the mere expense of the transmission of letters, apart from the other charges of Post Office management, would he applicable to this country, we have ascertained the rates at which a parcel of the weight of one hundred pounds, would he sent by the Express Companies, to different <b>parts</b> of the States, with the same dispatch as the mails, and the results are as follows From.<br>- around and moving away from the platform to other <b>parts</b> of the grounds.<hr>"
      ],
      "text/plain": [
       "<IPython.core.display.HTML object>"
      ]
     },
     "metadata": {},
     "output_type": "display_data"
    },
    {
     "name": "stdout",
     "output_type": "stream",
     "text": [
      "-------------------------------------------------------------------\n"
     ]
    },
    {
     "data": {
      "text/html": [
       "PART_NN: <b>AN ELEMENT, PORTION, OR FRACTION OF SOMETHING LARGER.</b>"
      ],
      "text/plain": [
       "<IPython.core.display.HTML object>"
      ]
     },
     "metadata": {},
     "output_type": "display_data"
    },
    {
     "name": "stdout",
     "output_type": "stream",
     "text": [
      "Cluster chosen by annotator:\n",
      "-3\n"
     ]
    },
    {
     "data": {
      "text/html": [
       "- As our readers may have anticipated, Susan at once entered into Harry's views; and, in a short time, she and her family were transferred to a <b>part</b> of a small house in Broome-street, in New-York.<br>- Enter Barri from the inner <b>part</b> of the tent, guarded.<br>- He used to be <b>part</b> of a very high commune there, before it got squeezed out by the local Establishment.<br>- In addition, the hurricane destroyed Alabama's pecan crop and knocked out electric power in the southwest <b>part</b> of the state for at least a week.<br>- Sometimes that knowledge seemed the worst <b>part</b> of my loss.<hr>"
      ],
      "text/plain": [
       "<IPython.core.display.HTML object>"
      ]
     },
     "metadata": {},
     "output_type": "display_data"
    },
    {
     "name": "stdout",
     "output_type": "stream",
     "text": [
      "Cluster that generated the definition\n",
      "2\n"
     ]
    },
    {
     "data": {
      "text/html": [
       "- Home still had its cares; the present, its bitterness; the future, its anxiety; but these had no <b>part</b> in her present reverie, for, giving the reins to a charmed fancy, and, for the time, banishing every painful thought, she was dwelling with fond and eager anticipation upon that ever fruitful prospect of enjoyment, a young girl's first journey.<br>- And what we're doing here now is a <b>part</b> of that, I suppose? '<br>- He was doing his fervent best and delivering each line with a high semi-professional finish, but there was no denying that he looked all wrong in the <b>part</b> of Alan Squiers -- squat and partly bald and all but unable to see without his glasses, which he'd refused to wear on stage.<br>- Wayne: \" Never before has a Vice President played such an important <b>part</b> in foreign policy. \"<br>- Man and woman are so completely different in their whole organization that, as it has been remarked, no single <b>part</b> of the one could he properly substituted for the corresponding part of the other.<hr>"
      ],
      "text/plain": [
       "<IPython.core.display.HTML object>"
      ]
     },
     "metadata": {},
     "output_type": "display_data"
    },
    {
     "name": "stdout",
     "output_type": "stream",
     "text": [
      "-------------------------------------------------------------------\n"
     ]
    },
    {
     "data": {
      "text/html": [
       "CHEF_NN: <b>A MASTER OF EXCELLENCE.</b>"
      ],
      "text/plain": [
       "<IPython.core.display.HTML object>"
      ]
     },
     "metadata": {},
     "output_type": "display_data"
    },
    {
     "name": "stdout",
     "output_type": "stream",
     "text": [
      "Cluster chosen by annotator:\n",
      "0\n"
     ]
    },
    {
     "data": {
      "text/html": [
       "- he says, \" how many <b>chefs</b> say for their last great feast they would like things on the order of tripe a la mode de Caen, cassoulet, and breaded pig's feet?<br>- But as long as you're checking with the <b>chef</b> MAITRE D ' I'll ask.<br>- Manager told me, explaining that she had two first-class men <b>chefs</b>, one a general chef and one a pastry chef, to manage her main restaurant kitchens, and a very capable woman head cook for the staff restaurant.<br>- But no worries: Rocco DiSpirito, executive <b>chef</b> at Union Pacific and star of NEC's The Restaurant, had a papparadelle<br>- Albert Oswald, a renown European <b>chef</b> with numerous Parisian culinary awards, exemplifies the boisterous lifestyle of the Alps, which derives mischievous enjoyment in temporarily converting rather staid visitors.<hr>"
      ],
      "text/plain": [
       "<IPython.core.display.HTML object>"
      ]
     },
     "metadata": {},
     "output_type": "display_data"
    },
    {
     "name": "stdout",
     "output_type": "stream",
     "text": [
      "Cluster that generated the definition\n",
      "1\n"
     ]
    },
    {
     "data": {
      "text/html": [
       "- , mellowness of finish, for it is coloured the very counterpart of the original, which brought five hundred louis at the auction of the famous collection of the Duc de Montmorenci, and is now one of the <b>chef</b> d'oeuvres in the gallery of the Luxemburgh -- bauble!<br>- Even you, my friend, educated, as you have been, amid the paintings and statues of Europe, you who have wandcred through the Louvre and Vatican, and seen the <b>chefs</b> d'oeuvre of Florence, -- even you, my friend, expressed wonder, when you looked upon him first at P -- d.<br>- Yet in conformity with this estimate of the nature and rank of our author's genius, we are much inclined to regard the \" Posthumous Papers of the Pickwick Club, \" as his <b>chef</b> d'wuvre.<br>- We feel as does an artist, when he sees rude hands marring a <b>chef</b> d'xuvre.<br>- Indeed what can be so gratifying as the contemplation of so many <b>chef</b> d'oBuvres of genius or of mind?<hr>"
      ],
      "text/plain": [
       "<IPython.core.display.HTML object>"
      ]
     },
     "metadata": {},
     "output_type": "display_data"
    },
    {
     "name": "stdout",
     "output_type": "stream",
     "text": [
      "-------------------------------------------------------------------\n"
     ]
    },
    {
     "data": {
      "text/html": [
       "CHEF_NN: <b>A MASTER OF CEREMONIES IN VARIOUS COOKING STYLES.</b>"
      ],
      "text/plain": [
       "<IPython.core.display.HTML object>"
      ]
     },
     "metadata": {},
     "output_type": "display_data"
    },
    {
     "name": "stdout",
     "output_type": "stream",
     "text": [
      "Cluster chosen by annotator:\n",
      "0\n"
     ]
    },
    {
     "data": {
      "text/html": [
       "- he says, \" how many <b>chefs</b> say for their last great feast they would like things on the order of tripe a la mode de Caen, cassoulet, and breaded pig's feet?<br>- But as long as you're checking with the <b>chef</b> MAITRE D ' I'll ask.<br>- Manager told me, explaining that she had two first-class men <b>chefs</b>, one a general chef and one a pastry chef, to manage her main restaurant kitchens, and a very capable woman head cook for the staff restaurant.<br>- But no worries: Rocco DiSpirito, executive <b>chef</b> at Union Pacific and star of NEC's The Restaurant, had a papparadelle<br>- Albert Oswald, a renown European <b>chef</b> with numerous Parisian culinary awards, exemplifies the boisterous lifestyle of the Alps, which derives mischievous enjoyment in temporarily converting rather staid visitors.<hr>"
      ],
      "text/plain": [
       "<IPython.core.display.HTML object>"
      ]
     },
     "metadata": {},
     "output_type": "display_data"
    },
    {
     "name": "stdout",
     "output_type": "stream",
     "text": [
      "Cluster that generated the definition\n",
      "3\n"
     ]
    },
    {
     "data": {
      "text/html": [
       "- \" So, \" the <b>Chef</b> du Village says with a shrug, already scanning down the line. \"<br>- -- If, during the night, no force appear, in the direction of <b>Chef</b> Menteur; require that he join me with his whole command.<br>- A curious evidence of this was given in a remarkable ceremony in which I frequently saw Mehevi and several other <b>chefs</b> and warriors of note take part; but never a single female.<br>- That brave general added to his rank of <b>chef</b> de brigade that of adjutant general, and made him one of his family during the time he was at Rennes, the head quarters of the army destined for the invasion.<hr>"
      ],
      "text/plain": [
       "<IPython.core.display.HTML object>"
      ]
     },
     "metadata": {},
     "output_type": "display_data"
    },
    {
     "name": "stdout",
     "output_type": "stream",
     "text": [
      "-------------------------------------------------------------------\n"
     ]
    },
    {
     "data": {
      "text/html": [
       "TWIST_NN: <b>A TURN ; A TURNING MOTION.</b>"
      ],
      "text/plain": [
       "<IPython.core.display.HTML object>"
      ]
     },
     "metadata": {},
     "output_type": "display_data"
    },
    {
     "name": "stdout",
     "output_type": "stream",
     "text": [
      "Cluster chosen by annotator:\n",
      "-2\n"
     ]
    },
    {
     "data": {
      "text/html": [
       "- step 4: Finish by tying a reverse uniknot around both legs of the loop as shown and then carefully snug it back up until it joins the base of the <b>twist</b>, locking it and creating a nice smooth transition.<br>- It may seem strange, very strange, gentlemen of the jury, \" said he, \" that in such weather, a <b>twist</b> of paper like these \" -- holding up the notes in two separate parcels, and in such a way as to show that they were loosely and lightly twisted at one end only, the other ends having been carefully unrolled for verification -- \" should have attracted the attention of the witness; but he will inform you that they were blazing when they fluttered by him, and struck the snow, and that just when he was about trampling on them with his foot, he saw something which led him to snatch them up<br>- Phina, in fact, stepped on these shores wearing her hair in spiky <b>twists</b>. \"<br>- He grew a big nose with a long, hooking sweep to it, and the ends of his mouth had slight upward <b>twists</b>, whereas his eyes was sad.<br>- And Mr. Bivins, with a complacent look, took a small chew of tobacco; first offering the <b>twist</b> to the pallid Mr. Quid, who, it is needless to say, declined.<hr>"
      ],
      "text/plain": [
       "<IPython.core.display.HTML object>"
      ]
     },
     "metadata": {},
     "output_type": "display_data"
    },
    {
     "name": "stdout",
     "output_type": "stream",
     "text": [
      "Cluster that generated the definition\n",
      "0\n"
     ]
    },
    {
     "data": {
      "text/html": [
       "- , Palsied with this, he quails at death to night, Who would have curst the heavens yesterday, In the face of its bright glorious sun; And wrung an infant's neck, with as little Of hesitating conscience, as <b>twist</b> straws.<br>- A fellow can't drive tandem without having his leader always out of sight ' round some <b>twist</b> or other in ' em.<br>- They are all very easily propagated by layering in July: give the shoot of the present year's growth a <b>twist</b>, and then bury the twisted part six inches under ground; in November it will be well rooted, and can then be cut oif and transplanted in any desired situation; the tasteful husbandman may thus cover every unsightly fence rail.<br>- Well, thinks I, if things look so to the Gineral, as they do to me threw these specs, I don't wonder so much that he don't always see ' em as other folks do; and then I went to work, lookin into the contrivance; I give one screw a <b>twist</b> one way, and the glasses<br>- I twist and <b>twist</b>, but I can't.<hr>"
      ],
      "text/plain": [
       "<IPython.core.display.HTML object>"
      ]
     },
     "metadata": {},
     "output_type": "display_data"
    },
    {
     "name": "stdout",
     "output_type": "stream",
     "text": [
      "-------------------------------------------------------------------\n"
     ]
    },
    {
     "data": {
      "text/html": [
       "TWIST_NN: <b>A TURN OR SWINDLE.</b>"
      ],
      "text/plain": [
       "<IPython.core.display.HTML object>"
      ]
     },
     "metadata": {},
     "output_type": "display_data"
    },
    {
     "name": "stdout",
     "output_type": "stream",
     "text": [
      "Cluster chosen by annotator:\n",
      "0\n"
     ]
    },
    {
     "data": {
      "text/html": [
       "- I can tell you, my little man, \" was the old gentleman's reply, as he looked down upon Zeb's queer face, turned up towards his own, with a slight inclination to the right, and a <b>twist</b> of the mouth to the left, while the earnest protrusion of his dark sparkling eyes, and the honest confidence expressed by all his features in combination, rivetted the stranger's attention to the person of our hero, though at first overlooked in his examination of the travellers who had arrived in the stage. \"<br>- Jamie had also recognized him, and remembering the abstraction of the twenty dollar note, began to feel the fears of suspicion coming over him, and turning his back was shuffling off with his shape so altered by an ingenious <b>twist</b> of his body and a stooping of the shoulders and a bowing in of the legs, that when Donald's eyes first beheld him, he hesitated in deciding whether it were Jamie or no.<br>- He had wanted one of those guns, and to go on that raid, so badly that it made his face <b>twist</b> into a gargoyle mask whenever he thought about it.<br>- They have many electronic talents: Build them with a bit of a <b>twist</b> and the conductivity changes.<br>- I want you to take your index and middle fingers on both hands, bend them at the knuckle, then pinch and <b>twist</b>.<hr>"
      ],
      "text/plain": [
       "<IPython.core.display.HTML object>"
      ]
     },
     "metadata": {},
     "output_type": "display_data"
    },
    {
     "name": "stdout",
     "output_type": "stream",
     "text": [
      "Cluster that generated the definition\n",
      "2\n"
     ]
    },
    {
     "data": {
      "text/html": [
       "- the ' counts, and run the chance of lettin Congress skip ' em over; and I tell'd you too, that I would to rights git the Gineral's specs, and giv ' em a <b>twist</b> round to a plain sight, and let him take a look at things jest as they be, without a bit of glory ' about ' em.<br>- urged the Squire, toying with a bit of <b>twist</b> upon the table. \"<br>- He grew a big nose with a long, hooking sweep to it, and the ends of his mouth had slight upward <b>twists</b>, whereas his eyes was sad.<br>- It may seem strange, very strange, gentlemen of the jury, \" said he, \" that in such weather, a <b>twist</b> of paper like these \" -- holding up the notes in two separate parcels, and in such a way as to show that they were loosely and lightly twisted at one end only, the other ends having been carefully unrolled for verification -- \" should have attracted the attention of the witness; but he will inform you that they were blazing when they fluttered by him, and struck the snow, and that just when he was about trampling on them with his foot, he saw something which led him to snatch them up<br>- The diddler approaches the bar of a tavern, and demands a couple of <b>twists</b> of tobacco.<hr>"
      ],
      "text/plain": [
       "<IPython.core.display.HTML object>"
      ]
     },
     "metadata": {},
     "output_type": "display_data"
    },
    {
     "name": "stdout",
     "output_type": "stream",
     "text": [
      "-------------------------------------------------------------------\n"
     ]
    },
    {
     "data": {
      "text/html": [
       "TWIST_NN: <b>A TURNING OR SLANT ; A WRY CURVE.</b>"
      ],
      "text/plain": [
       "<IPython.core.display.HTML object>"
      ]
     },
     "metadata": {},
     "output_type": "display_data"
    },
    {
     "name": "stdout",
     "output_type": "stream",
     "text": [
      "Cluster chosen by annotator:\n",
      "2\n"
     ]
    },
    {
     "data": {
      "text/html": [
       "- step 4: Finish by tying a reverse uniknot around both legs of the loop as shown and then carefully snug it back up until it joins the base of the <b>twist</b>, locking it and creating a nice smooth transition.<br>- It may seem strange, very strange, gentlemen of the jury, \" said he, \" that in such weather, a <b>twist</b> of paper like these \" -- holding up the notes in two separate parcels, and in such a way as to show that they were loosely and lightly twisted at one end only, the other ends having been carefully unrolled for verification -- \" should have attracted the attention of the witness; but he will inform you that they were blazing when they fluttered by him, and struck the snow, and that just when he was about trampling on them with his foot, he saw something which led him to snatch them up<br>- Phina, in fact, stepped on these shores wearing her hair in spiky <b>twists</b>. \"<br>- He grew a big nose with a long, hooking sweep to it, and the ends of his mouth had slight upward <b>twists</b>, whereas his eyes was sad.<br>- And Mr. Bivins, with a complacent look, took a small chew of tobacco; first offering the <b>twist</b> to the pallid Mr. Quid, who, it is needless to say, declined.<hr>"
      ],
      "text/plain": [
       "<IPython.core.display.HTML object>"
      ]
     },
     "metadata": {},
     "output_type": "display_data"
    },
    {
     "name": "stdout",
     "output_type": "stream",
     "text": [
      "Cluster that generated the definition\n",
      "3\n"
     ]
    },
    {
     "data": {
      "text/html": [
       "- Owing to these advantages the greater quantity of <b>twist</b> produced, its consequent cheapness, and its adaptation to the purpose of warps for power-loom cloth of the coarser kinds it is probable that the throstles will come into use more extensively than at present.<br>- And yet, though Bremen has extensive and increasing manufactories of cotton, it has not enabled us to furnish her artisans with more than 12,000 bales of the raw material annually, because British <b>twist</b> continues to be admitted free.<br>- Leonora did not reply, save by a contemptuous <b>twist</b> of her features, and a shake of her head. \"<br>- said Jones, repeating the words of the other, as he began to assume his old comic <b>twist</b> of features, no, unless you might call him a kettle drummer; for now I think on't when we first came into the house where we found him, he was at it hammer and tongs upon an old brass kettle, making clatter enough to crazy a small nation. '<br>- Introduce a piece of common \" <b>twist</b>, \" as large as a kidney bean, into the mouth of a robust man, unaccustomed to this weed, and soon he is affected with fainting, vertigo, nausea, vomiting, and loss of vision.<hr>"
      ],
      "text/plain": [
       "<IPython.core.display.HTML object>"
      ]
     },
     "metadata": {},
     "output_type": "display_data"
    },
    {
     "name": "stdout",
     "output_type": "stream",
     "text": [
      "-------------------------------------------------------------------\n"
     ]
    }
   ],
   "source": [
    "print_wrongs(\"mt0-definition-en-xl\")"
   ]
  }
 ],
 "metadata": {
  "kernelspec": {
   "display_name": "glossannotator",
   "language": "python",
   "name": "glossannotator"
  },
  "language_info": {
   "codemirror_mode": {
    "name": "ipython",
    "version": 3
   },
   "file_extension": ".py",
   "mimetype": "text/x-python",
   "name": "python",
   "nbconvert_exporter": "python",
   "pygments_lexer": "ipython3",
   "version": "3.10.12"
  }
 },
 "nbformat": 4,
 "nbformat_minor": 5
}
